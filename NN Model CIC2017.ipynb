{
 "cells": [
  {
   "cell_type": "markdown",
   "metadata": {},
   "source": [
    "# NN Pytorch"
   ]
  },
  {
   "cell_type": "code",
   "execution_count": 1,
   "metadata": {},
   "outputs": [],
   "source": [
    "import numpy as np\n",
    "from sklearn.model_selection import train_test_split\n",
    "import pandas as pd\n",
    "import torch\n",
    "import torchvision\n",
    "from torchvision import transforms, datasets\n",
    "import torch.nn as nn\n",
    "import torch.nn.functional as F\n",
    "import torch.optim as optim\n",
    "from torch.autograd import Variable\n",
    "from tqdm import tqdm\n",
    "from sklearn.preprocessing import StandardScaler,QuantileTransformer\n",
    "from sklearn.decomposition import PCA\n"
   ]
  },
  {
   "cell_type": "markdown",
   "metadata": {},
   "source": [
    "## DATASET LOADING / SAVING"
   ]
  },
  {
   "cell_type": "code",
   "execution_count": 25,
   "metadata": {},
   "outputs": [],
   "source": [
    "X = pd.read_csv('/home/singhaniatanay18/X_resampled.csv')\n",
    "Y = pd.read_csv('./Y_resampled.csv',header=None)"
   ]
  },
  {
   "cell_type": "code",
   "execution_count": 26,
   "metadata": {},
   "outputs": [
    {
     "name": "stdout",
     "output_type": "stream",
     "text": [
      "(7477003, 35)\n",
      "(7477003, 1)\n"
     ]
    }
   ],
   "source": [
    "print(X.shape)\n",
    "print(Y.shape)"
   ]
  },
  {
   "cell_type": "code",
   "execution_count": 13,
   "metadata": {},
   "outputs": [],
   "source": [
    "catenc = pd.factorize(Y.iloc[:,0])"
   ]
  },
  {
   "cell_type": "code",
   "execution_count": 14,
   "metadata": {},
   "outputs": [
    {
     "name": "stdout",
     "output_type": "stream",
     "text": [
      "(7477003, 1)\n"
     ]
    }
   ],
   "source": [
    "Y2 = pd.DataFrame(data=catenc[0])\n",
    "print(Y2.shape)"
   ]
  },
  {
   "cell_type": "code",
   "execution_count": 15,
   "metadata": {},
   "outputs": [
    {
     "name": "stdout",
     "output_type": "stream",
     "text": [
      "(5009592, 35)\n",
      "(5009592, 1)\n",
      "(2467411, 35)\n",
      "(2467411, 1)\n"
     ]
    }
   ],
   "source": [
    "X_train, X_test, y_train, y_test = train_test_split(X, Y2, test_size=0.33, random_state=42)\n",
    "print(X_train.shape)\n",
    "print(y_train.shape)\n",
    "print(X_test.shape)\n",
    "print(y_test.shape)"
   ]
  },
  {
   "cell_type": "code",
   "execution_count": 16,
   "metadata": {},
   "outputs": [
    {
     "name": "stdout",
     "output_type": "stream",
     "text": [
      "(5009592, 1)\n",
      "(5009592, 35)\n",
      "<class 'numpy.int64'>\n"
     ]
    }
   ],
   "source": [
    "Xtr_np = np.array(X_train)\n",
    "Ytr_np = np.array(y_train)\n",
    "print(Ytr_np.shape)\n",
    "print(Xtr_np.shape)\n",
    "print(type(Ytr_np[0][0]))"
   ]
  },
  {
   "cell_type": "code",
   "execution_count": 19,
   "metadata": {},
   "outputs": [],
   "source": [
    "train = torch.utils.data.TensorDataset(torch.Tensor(Xtr_np), torch.Tensor(Ytr_np))\n",
    "torch.save(train,'train.pt')"
   ]
  },
  {
   "cell_type": "code",
   "execution_count": 20,
   "metadata": {},
   "outputs": [],
   "source": [
    "Xte_np = np.array(X_test)\n",
    "Yte_np = np.array(y_test)\n",
    "test = torch.utils.data.TensorDataset(torch.Tensor(Xte_np), torch.Tensor(Yte_np))\n",
    "torch.save(test,'test.pt')"
   ]
  },
  {
   "cell_type": "markdown",
   "metadata": {},
   "source": [
    "## LOAD DATASET"
   ]
  },
  {
   "cell_type": "code",
   "execution_count": 2,
   "metadata": {},
   "outputs": [
    {
     "ename": "RuntimeError",
     "evalue": "unexpected EOF, expected 657584042 more bytes. The file might be corrupted.",
     "output_type": "error",
     "traceback": [
      "\u001b[0;31m---------------------------------------------------------------------------\u001b[0m",
      "\u001b[0;31mRuntimeError\u001b[0m                              Traceback (most recent call last)",
      "\u001b[0;32m<ipython-input-2-61bfd490a6d1>\u001b[0m in \u001b[0;36m<module>\u001b[0;34m\u001b[0m\n\u001b[0;32m----> 1\u001b[0;31m \u001b[0mtr\u001b[0m \u001b[0;34m=\u001b[0m \u001b[0mtorch\u001b[0m\u001b[0;34m.\u001b[0m\u001b[0mload\u001b[0m\u001b[0;34m(\u001b[0m\u001b[0;34m'./train.pt'\u001b[0m\u001b[0;34m)\u001b[0m\u001b[0;34m\u001b[0m\u001b[0;34m\u001b[0m\u001b[0m\n\u001b[0m\u001b[1;32m      2\u001b[0m \u001b[0mte\u001b[0m \u001b[0;34m=\u001b[0m \u001b[0mtorch\u001b[0m\u001b[0;34m.\u001b[0m\u001b[0mload\u001b[0m\u001b[0;34m(\u001b[0m\u001b[0;34m'./test.pt'\u001b[0m\u001b[0;34m)\u001b[0m\u001b[0;34m\u001b[0m\u001b[0;34m\u001b[0m\u001b[0m\n",
      "\u001b[0;32m~/miniconda3/envs/py36/lib/python3.6/site-packages/torch/serialization.py\u001b[0m in \u001b[0;36mload\u001b[0;34m(f, map_location, pickle_module, **pickle_load_args)\u001b[0m\n\u001b[1;32m    593\u001b[0m                     \u001b[0;32mreturn\u001b[0m \u001b[0mtorch\u001b[0m\u001b[0;34m.\u001b[0m\u001b[0mjit\u001b[0m\u001b[0;34m.\u001b[0m\u001b[0mload\u001b[0m\u001b[0;34m(\u001b[0m\u001b[0mopened_file\u001b[0m\u001b[0;34m)\u001b[0m\u001b[0;34m\u001b[0m\u001b[0;34m\u001b[0m\u001b[0m\n\u001b[1;32m    594\u001b[0m                 \u001b[0;32mreturn\u001b[0m \u001b[0m_load\u001b[0m\u001b[0;34m(\u001b[0m\u001b[0mopened_zipfile\u001b[0m\u001b[0;34m,\u001b[0m \u001b[0mmap_location\u001b[0m\u001b[0;34m,\u001b[0m \u001b[0mpickle_module\u001b[0m\u001b[0;34m,\u001b[0m \u001b[0;34m**\u001b[0m\u001b[0mpickle_load_args\u001b[0m\u001b[0;34m)\u001b[0m\u001b[0;34m\u001b[0m\u001b[0;34m\u001b[0m\u001b[0m\n\u001b[0;32m--> 595\u001b[0;31m         \u001b[0;32mreturn\u001b[0m \u001b[0m_legacy_load\u001b[0m\u001b[0;34m(\u001b[0m\u001b[0mopened_file\u001b[0m\u001b[0;34m,\u001b[0m \u001b[0mmap_location\u001b[0m\u001b[0;34m,\u001b[0m \u001b[0mpickle_module\u001b[0m\u001b[0;34m,\u001b[0m \u001b[0;34m**\u001b[0m\u001b[0mpickle_load_args\u001b[0m\u001b[0;34m)\u001b[0m\u001b[0;34m\u001b[0m\u001b[0;34m\u001b[0m\u001b[0m\n\u001b[0m\u001b[1;32m    596\u001b[0m \u001b[0;34m\u001b[0m\u001b[0m\n\u001b[1;32m    597\u001b[0m \u001b[0;34m\u001b[0m\u001b[0m\n",
      "\u001b[0;32m~/miniconda3/envs/py36/lib/python3.6/site-packages/torch/serialization.py\u001b[0m in \u001b[0;36m_legacy_load\u001b[0;34m(f, map_location, pickle_module, **pickle_load_args)\u001b[0m\n\u001b[1;32m    779\u001b[0m     \u001b[0;32mfor\u001b[0m \u001b[0mkey\u001b[0m \u001b[0;32min\u001b[0m \u001b[0mdeserialized_storage_keys\u001b[0m\u001b[0;34m:\u001b[0m\u001b[0;34m\u001b[0m\u001b[0;34m\u001b[0m\u001b[0m\n\u001b[1;32m    780\u001b[0m         \u001b[0;32massert\u001b[0m \u001b[0mkey\u001b[0m \u001b[0;32min\u001b[0m \u001b[0mdeserialized_objects\u001b[0m\u001b[0;34m\u001b[0m\u001b[0;34m\u001b[0m\u001b[0m\n\u001b[0;32m--> 781\u001b[0;31m         \u001b[0mdeserialized_objects\u001b[0m\u001b[0;34m[\u001b[0m\u001b[0mkey\u001b[0m\u001b[0;34m]\u001b[0m\u001b[0;34m.\u001b[0m\u001b[0m_set_from_file\u001b[0m\u001b[0;34m(\u001b[0m\u001b[0mf\u001b[0m\u001b[0;34m,\u001b[0m \u001b[0moffset\u001b[0m\u001b[0;34m,\u001b[0m \u001b[0mf_should_read_directly\u001b[0m\u001b[0;34m)\u001b[0m\u001b[0;34m\u001b[0m\u001b[0;34m\u001b[0m\u001b[0m\n\u001b[0m\u001b[1;32m    782\u001b[0m         \u001b[0;32mif\u001b[0m \u001b[0moffset\u001b[0m \u001b[0;32mis\u001b[0m \u001b[0;32mnot\u001b[0m \u001b[0;32mNone\u001b[0m\u001b[0;34m:\u001b[0m\u001b[0;34m\u001b[0m\u001b[0;34m\u001b[0m\u001b[0m\n\u001b[1;32m    783\u001b[0m             \u001b[0moffset\u001b[0m \u001b[0;34m=\u001b[0m \u001b[0mf\u001b[0m\u001b[0;34m.\u001b[0m\u001b[0mtell\u001b[0m\u001b[0;34m(\u001b[0m\u001b[0;34m)\u001b[0m\u001b[0;34m\u001b[0m\u001b[0;34m\u001b[0m\u001b[0m\n",
      "\u001b[0;31mRuntimeError\u001b[0m: unexpected EOF, expected 657584042 more bytes. The file might be corrupted."
     ]
    }
   ],
   "source": [
    "tr = torch.load('./train.pt')\n",
    "te = torch.load('./test.pt')"
   ]
  },
  {
   "cell_type": "code",
   "execution_count": 3,
   "metadata": {},
   "outputs": [],
   "source": [
    "train_loader = torch.utils.data.DataLoader(tr, batch_size = 1024, shuffle = True)"
   ]
  },
  {
   "cell_type": "code",
   "execution_count": 4,
   "metadata": {},
   "outputs": [],
   "source": [
    "test_loader = torch.utils.data.DataLoader(te, batch_size = 1024, shuffle = True)"
   ]
  },
  {
   "cell_type": "code",
   "execution_count": 5,
   "metadata": {},
   "outputs": [
    {
     "name": "stdout",
     "output_type": "stream",
     "text": [
      "4893\n",
      "2410\n"
     ]
    }
   ],
   "source": [
    "print(len(train_loader))\n",
    "print(len(test_loader))"
   ]
  },
  {
   "cell_type": "code",
   "execution_count": 10,
   "metadata": {},
   "outputs": [
    {
     "name": "stdout",
     "output_type": "stream",
     "text": [
      "(tensor([8.0000e+01, 5.0110e+06, 4.0000e+00, 6.5696e+02, 6.5696e+02, 0.0000e+00,\n",
      "        1.6424e+02, 3.2848e+02, 1.9761e+03, 5.2546e+02, 1.5965e+00, 7.1585e+05,\n",
      "        1.8912e+06, 5.0048e+06, 2.1727e+01, 2.0653e+03, 1.5030e+03, 3.6911e+02,\n",
      "        5.0109e+06, 1.6703e+06, 2.8881e+06, 5.0052e+06, 9.2000e+01, 9.2000e+01,\n",
      "        7.9825e-01, 0.0000e+00, 2.9256e+02, 4.4680e+05, 1.0000e+00, 0.0000e+00,\n",
      "        1.0000e+00, 8.1920e+03, 2.2098e+02, 2.0000e+01, 0.0000e+00]), tensor([14.]))\n"
     ]
    }
   ],
   "source": [
    "print(tr[0])"
   ]
  },
  {
   "cell_type": "code",
   "execution_count": 4,
   "metadata": {},
   "outputs": [],
   "source": [
    "scaler = StandardScaler()\n",
    "# Fit on training set only.\n",
    "sc2 = QuantileTransformer()\n",
    "sc2.fit(tr.tensors[0])\n",
    "scaler.fit(tr.tensors[0])\n",
    "# Apply transform to both the training set and the test set.\n",
    "train_scaled_quantile = sc2.transform(tr.tensors[0])\n",
    "test_scaled_quantile = sc2.transform(te.tensors[0])\n",
    "train_scaled = scaler.transform(tr.tensors[0])\n",
    "test__scaled = scaler.transform(te.tensors[0])"
   ]
  },
  {
   "cell_type": "code",
   "execution_count": 5,
   "metadata": {},
   "outputs": [
    {
     "name": "stdout",
     "output_type": "stream",
     "text": [
      "(5009592, 35)\n",
      "(5009592, 35)\n",
      "(2467411, 35)\n",
      "(2467411, 35)\n"
     ]
    }
   ],
   "source": [
    "print(train_scaled.shape)\n",
    "print(train_scaled_quantile.shape)\n",
    "print(test_scaled_quantile.shape)\n",
    "print(test__scaled.shape)"
   ]
  },
  {
   "cell_type": "markdown",
   "metadata": {},
   "source": [
    "## PCA"
   ]
  },
  {
   "cell_type": "code",
   "execution_count": 6,
   "metadata": {},
   "outputs": [],
   "source": [
    "# Make an instance of the Model\n",
    "pca = PCA(.95)"
   ]
  },
  {
   "cell_type": "code",
   "execution_count": 7,
   "metadata": {},
   "outputs": [
    {
     "data": {
      "text/plain": [
       "PCA(copy=True, iterated_power='auto', n_components=0.95, random_state=None,\n",
       "    svd_solver='auto', tol=0.0, whiten=False)"
      ]
     },
     "execution_count": 7,
     "metadata": {},
     "output_type": "execute_result"
    }
   ],
   "source": [
    "pca.fit(train_scaled_quantile)"
   ]
  },
  {
   "cell_type": "code",
   "execution_count": 8,
   "metadata": {},
   "outputs": [
    {
     "data": {
      "text/plain": [
       "8"
      ]
     },
     "execution_count": 8,
     "metadata": {},
     "output_type": "execute_result"
    }
   ],
   "source": [
    "pca.n_components_"
   ]
  },
  {
   "cell_type": "code",
   "execution_count": 9,
   "metadata": {},
   "outputs": [
    {
     "name": "stdout",
     "output_type": "stream",
     "text": [
      "<class 'numpy.ndarray'>\n"
     ]
    }
   ],
   "source": [
    "train_PCA = pca.transform(train_scaled_quantile)\n",
    "test_PCA = pca.transform(test_scaled_quantile)\n",
    "print(type(train_PCA))"
   ]
  },
  {
   "cell_type": "code",
   "execution_count": 10,
   "metadata": {},
   "outputs": [],
   "source": [
    "train2 = torch.utils.data.TensorDataset(torch.Tensor(train_PCA), torch.Tensor(tr.tensors[1]))\n",
    "torch.save(train2,'train_PCA_quantile.pt')\n",
    "test2 = torch.utils.data.TensorDataset(torch.Tensor(test_PCA), torch.Tensor(te.tensors[1]))\n",
    "torch.save(test2,'test_PCA_quantile.pt')"
   ]
  },
  {
   "cell_type": "code",
   "execution_count": 18,
   "metadata": {},
   "outputs": [],
   "source": [
    "tr2 = torch.load('train_PCA_quantile.pt')\n",
    "te2 = torch.load('test_PCA_quantile.pt')\n",
    "train_loader = torch.utils.data.DataLoader(tr2, batch_size = 2048, shuffle = True)\n",
    "test_loader = torch.utils.data.DataLoader(te2, batch_size = 1024, shuffle = True)"
   ]
  },
  {
   "cell_type": "code",
   "execution_count": 19,
   "metadata": {},
   "outputs": [
    {
     "name": "stdout",
     "output_type": "stream",
     "text": [
      "2447\n",
      "2410\n"
     ]
    }
   ],
   "source": [
    "print(len(train_loader))\n",
    "print(len(test_loader))"
   ]
  },
  {
   "cell_type": "markdown",
   "metadata": {},
   "source": [
    "## NEURAL NET"
   ]
  },
  {
   "cell_type": "code",
   "execution_count": 13,
   "metadata": {},
   "outputs": [],
   "source": [
    "class Net(nn.Module):\n",
    "    def __init__(self):\n",
    "        super().__init__()\n",
    "        self.fc1 = nn.Linear(8, 32)\n",
    "        self.fc2 = nn.Linear(32, 32)\n",
    "        self.fc3 = nn.Linear(32, 32)\n",
    "        self.fc4 = nn.Linear(32, 32)\n",
    "        self.fc5 = nn.Linear(32, 32)\n",
    "        self.fc6 = nn.Linear(32, 30)\n",
    "        self.fc7 = nn.Linear(30, 28)\n",
    "        self.fc8 = nn.Linear(28, 28)\n",
    "        self.fc9 = nn.Linear(28, 28)\n",
    "        self.fc10 = nn.Linear(28, 15)\n",
    "\n",
    "    def forward(self, x):\n",
    "        x = F.relu(self.fc1(x))\n",
    "        x = F.relu(self.fc2(x))\n",
    "        x = F.relu(self.fc3(x))\n",
    "        x = F.relu(self.fc4(x))\n",
    "        x = F.relu(self.fc5(x))\n",
    "        x = F.relu(self.fc6(x))\n",
    "        x = F.relu(self.fc7(x))\n",
    "        x = F.relu(self.fc8(x))\n",
    "        x = F.relu(self.fc9(x))\n",
    "        x = self.fc10(x)\n",
    "        return F.log_softmax(x, dim=1)"
   ]
  },
  {
   "cell_type": "code",
   "execution_count": 14,
   "metadata": {},
   "outputs": [
    {
     "name": "stdout",
     "output_type": "stream",
     "text": [
      "True\n",
      "cuda:0\n",
      "running on GPU\n"
     ]
    }
   ],
   "source": [
    "print(torch.cuda.is_available())\n",
    "device = torch.device('cuda:0')\n",
    "print(device)\n",
    "if torch.cuda.is_available():\n",
    "    device = torch.device('cuda:0')\n",
    "    print('running on GPU')\n",
    "else:\n",
    "    device = torch.device('cpu')\n",
    "    print('running on GPU')"
   ]
  },
  {
   "cell_type": "code",
   "execution_count": 15,
   "metadata": {},
   "outputs": [
    {
     "name": "stdout",
     "output_type": "stream",
     "text": [
      "Net(\n",
      "  (fc1): Linear(in_features=8, out_features=32, bias=True)\n",
      "  (fc2): Linear(in_features=32, out_features=32, bias=True)\n",
      "  (fc3): Linear(in_features=32, out_features=32, bias=True)\n",
      "  (fc4): Linear(in_features=32, out_features=32, bias=True)\n",
      "  (fc5): Linear(in_features=32, out_features=32, bias=True)\n",
      "  (fc6): Linear(in_features=32, out_features=30, bias=True)\n",
      "  (fc7): Linear(in_features=30, out_features=28, bias=True)\n",
      "  (fc8): Linear(in_features=28, out_features=28, bias=True)\n",
      "  (fc9): Linear(in_features=28, out_features=28, bias=True)\n",
      "  (fc10): Linear(in_features=28, out_features=15, bias=True)\n",
      ")\n"
     ]
    }
   ],
   "source": [
    "net = Net().to(device)\n",
    "print(net)"
   ]
  },
  {
   "cell_type": "code",
   "execution_count": 16,
   "metadata": {},
   "outputs": [],
   "source": [
    "#loss_function = nn.NLLLoss()\n",
    "loss_function = nn.MultiLabelMarginLoss()\n",
    "optimizer = optim.Adam(net.parameters(), lr=0.001)"
   ]
  },
  {
   "cell_type": "code",
   "execution_count": 9,
   "metadata": {},
   "outputs": [],
   "source": [
    "from torchviz import make_dot"
   ]
  },
  {
   "cell_type": "code",
   "execution_count": 28,
   "metadata": {},
   "outputs": [],
   "source": [
    "for data in train_loader:\n",
    "    xx,yy = data\n",
    "    break"
   ]
  },
  {
   "cell_type": "code",
   "execution_count": 20,
   "metadata": {},
   "outputs": [],
   "source": [
    "xx,yy = xx[0],yy[0]"
   ]
  },
  {
   "cell_type": "code",
   "execution_count": 29,
   "metadata": {},
   "outputs": [],
   "source": [
    "xx = xx.to(device)\n",
    "yy = yy.to(device)"
   ]
  },
  {
   "cell_type": "code",
   "execution_count": 30,
   "metadata": {},
   "outputs": [],
   "source": [
    "y = net(xx.view(xx.size(0),-1))"
   ]
  },
  {
   "cell_type": "code",
   "execution_count": 31,
   "metadata": {},
   "outputs": [
    {
     "data": {
      "image/svg+xml": [
       "<?xml version=\"1.0\" encoding=\"UTF-8\" standalone=\"no\"?>\n",
       "<!DOCTYPE svg PUBLIC \"-//W3C//DTD SVG 1.1//EN\"\n",
       " \"http://www.w3.org/Graphics/SVG/1.1/DTD/svg11.dtd\">\n",
       "<!-- Generated by graphviz version 2.38.0 (20140413.2041)\n",
       " -->\n",
       "<!-- Title: %3 Pages: 1 -->\n",
       "<svg width=\"194pt\" height=\"1091pt\"\n",
       " viewBox=\"0.00 0.00 194.44 1091.00\" xmlns=\"http://www.w3.org/2000/svg\" xmlns:xlink=\"http://www.w3.org/1999/xlink\">\n",
       "<g id=\"graph0\" class=\"graph\" transform=\"scale(0.707064 0.707064) rotate(0) translate(4 1539)\">\n",
       "<title>%3</title>\n",
       "<polygon fill=\"white\" stroke=\"none\" points=\"-4,4 -4,-1539 271,-1539 271,4 -4,4\"/>\n",
       "<!-- 139761961120464 -->\n",
       "<g id=\"node1\" class=\"node\"><title>139761961120464</title>\n",
       "<polygon fill=\"#caff70\" stroke=\"black\" points=\"173.5,-21 75.5,-21 75.5,-0 173.5,-0 173.5,-21\"/>\n",
       "<text text-anchor=\"middle\" x=\"124.5\" y=\"-7.4\" font-family=\"Times,serif\" font-size=\"12.00\">MeanBackward0</text>\n",
       "</g>\n",
       "<!-- 139761961120016 -->\n",
       "<g id=\"node2\" class=\"node\"><title>139761961120016</title>\n",
       "<polygon fill=\"lightgrey\" stroke=\"black\" points=\"187,-78 62,-78 62,-57 187,-57 187,-78\"/>\n",
       "<text text-anchor=\"middle\" x=\"124.5\" y=\"-64.4\" font-family=\"Times,serif\" font-size=\"12.00\">LogSoftmaxBackward</text>\n",
       "</g>\n",
       "<!-- 139761961120016&#45;&gt;139761961120464 -->\n",
       "<g id=\"edge1\" class=\"edge\"><title>139761961120016&#45;&gt;139761961120464</title>\n",
       "<path fill=\"none\" stroke=\"black\" d=\"M124.5,-56.9197C124.5,-49.9083 124.5,-40.1442 124.5,-31.4652\"/>\n",
       "<polygon fill=\"black\" stroke=\"black\" points=\"128,-31.3408 124.5,-21.3408 121,-31.3409 128,-31.3408\"/>\n",
       "</g>\n",
       "<!-- 139761961120400 -->\n",
       "<g id=\"node3\" class=\"node\"><title>139761961120400</title>\n",
       "<polygon fill=\"lightgrey\" stroke=\"black\" points=\"176.5,-135 72.5,-135 72.5,-114 176.5,-114 176.5,-135\"/>\n",
       "<text text-anchor=\"middle\" x=\"124.5\" y=\"-121.4\" font-family=\"Times,serif\" font-size=\"12.00\">AddmmBackward</text>\n",
       "</g>\n",
       "<!-- 139761961120400&#45;&gt;139761961120016 -->\n",
       "<g id=\"edge2\" class=\"edge\"><title>139761961120400&#45;&gt;139761961120016</title>\n",
       "<path fill=\"none\" stroke=\"black\" d=\"M124.5,-113.92C124.5,-106.908 124.5,-97.1442 124.5,-88.4652\"/>\n",
       "<polygon fill=\"black\" stroke=\"black\" points=\"128,-88.3408 124.5,-78.3408 121,-88.3409 128,-88.3408\"/>\n",
       "</g>\n",
       "<!-- 139761961120720 -->\n",
       "<g id=\"node4\" class=\"node\"><title>139761961120720</title>\n",
       "<polygon fill=\"lightblue\" stroke=\"black\" points=\"59,-205 0,-205 0,-171 59,-171 59,-205\"/>\n",
       "<text text-anchor=\"middle\" x=\"29.5\" y=\"-191.4\" font-family=\"Times,serif\" font-size=\"12.00\">fc10.bias</text>\n",
       "<text text-anchor=\"middle\" x=\"29.5\" y=\"-178.4\" font-family=\"Times,serif\" font-size=\"12.00\"> (15)</text>\n",
       "</g>\n",
       "<!-- 139761961120720&#45;&gt;139761961120400 -->\n",
       "<g id=\"edge3\" class=\"edge\"><title>139761961120720&#45;&gt;139761961120400</title>\n",
       "<path fill=\"none\" stroke=\"black\" d=\"M54.4601,-170.842C68.8909,-161.5 86.9349,-149.818 101.094,-140.652\"/>\n",
       "<polygon fill=\"black\" stroke=\"black\" points=\"103.268,-143.414 109.76,-135.042 99.4639,-137.538 103.268,-143.414\"/>\n",
       "</g>\n",
       "<!-- 139761961121296 -->\n",
       "<g id=\"node5\" class=\"node\"><title>139761961121296</title>\n",
       "<polygon fill=\"lightgrey\" stroke=\"black\" points=\"171.5,-198.5 77.5,-198.5 77.5,-177.5 171.5,-177.5 171.5,-198.5\"/>\n",
       "<text text-anchor=\"middle\" x=\"124.5\" y=\"-184.9\" font-family=\"Times,serif\" font-size=\"12.00\">ReluBackward0</text>\n",
       "</g>\n",
       "<!-- 139761961121296&#45;&gt;139761961120400 -->\n",
       "<g id=\"edge4\" class=\"edge\"><title>139761961121296&#45;&gt;139761961120400</title>\n",
       "<path fill=\"none\" stroke=\"black\" d=\"M124.5,-177.391C124.5,-168.866 124.5,-156.139 124.5,-145.423\"/>\n",
       "<polygon fill=\"black\" stroke=\"black\" points=\"128,-145.245 124.5,-135.245 121,-145.245 128,-145.245\"/>\n",
       "</g>\n",
       "<!-- 139761961054416 -->\n",
       "<g id=\"node6\" class=\"node\"><title>139761961054416</title>\n",
       "<polygon fill=\"lightgrey\" stroke=\"black\" points=\"175.5,-268.5 71.5,-268.5 71.5,-247.5 175.5,-247.5 175.5,-268.5\"/>\n",
       "<text text-anchor=\"middle\" x=\"123.5\" y=\"-254.9\" font-family=\"Times,serif\" font-size=\"12.00\">AddmmBackward</text>\n",
       "</g>\n",
       "<!-- 139761961054416&#45;&gt;139761961121296 -->\n",
       "<g id=\"edge5\" class=\"edge\"><title>139761961054416&#45;&gt;139761961121296</title>\n",
       "<path fill=\"none\" stroke=\"black\" d=\"M123.643,-247.257C123.79,-237.259 124.023,-221.422 124.209,-208.782\"/>\n",
       "<polygon fill=\"black\" stroke=\"black\" points=\"127.709,-208.775 124.357,-198.725 120.71,-208.672 127.709,-208.775\"/>\n",
       "</g>\n",
       "<!-- 139761961055760 -->\n",
       "<g id=\"node7\" class=\"node\"><title>139761961055760</title>\n",
       "<polygon fill=\"lightblue\" stroke=\"black\" points=\"58.5,-345 4.5,-345 4.5,-311 58.5,-311 58.5,-345\"/>\n",
       "<text text-anchor=\"middle\" x=\"31.5\" y=\"-331.4\" font-family=\"Times,serif\" font-size=\"12.00\">fc9.bias</text>\n",
       "<text text-anchor=\"middle\" x=\"31.5\" y=\"-318.4\" font-family=\"Times,serif\" font-size=\"12.00\"> (28)</text>\n",
       "</g>\n",
       "<!-- 139761961055760&#45;&gt;139761961054416 -->\n",
       "<g id=\"edge6\" class=\"edge\"><title>139761961055760&#45;&gt;139761961054416</title>\n",
       "<path fill=\"none\" stroke=\"black\" d=\"M53.3027,-310.885C67.9998,-300.022 87.3039,-285.754 101.948,-274.93\"/>\n",
       "<polygon fill=\"black\" stroke=\"black\" points=\"104.42,-277.455 110.381,-268.696 100.259,-271.826 104.42,-277.455\"/>\n",
       "</g>\n",
       "<!-- 139761961056464 -->\n",
       "<g id=\"node8\" class=\"node\"><title>139761961056464</title>\n",
       "<polygon fill=\"lightgrey\" stroke=\"black\" points=\"170.5,-338.5 76.5,-338.5 76.5,-317.5 170.5,-317.5 170.5,-338.5\"/>\n",
       "<text text-anchor=\"middle\" x=\"123.5\" y=\"-324.9\" font-family=\"Times,serif\" font-size=\"12.00\">ReluBackward0</text>\n",
       "</g>\n",
       "<!-- 139761961056464&#45;&gt;139761961054416 -->\n",
       "<g id=\"edge7\" class=\"edge\"><title>139761961056464&#45;&gt;139761961054416</title>\n",
       "<path fill=\"none\" stroke=\"black\" d=\"M123.5,-317.257C123.5,-307.259 123.5,-291.422 123.5,-278.782\"/>\n",
       "<polygon fill=\"black\" stroke=\"black\" points=\"127,-278.725 123.5,-268.725 120,-278.725 127,-278.725\"/>\n",
       "</g>\n",
       "<!-- 139761961056080 -->\n",
       "<g id=\"node9\" class=\"node\"><title>139761961056080</title>\n",
       "<polygon fill=\"lightgrey\" stroke=\"black\" points=\"175.5,-408.5 71.5,-408.5 71.5,-387.5 175.5,-387.5 175.5,-408.5\"/>\n",
       "<text text-anchor=\"middle\" x=\"123.5\" y=\"-394.9\" font-family=\"Times,serif\" font-size=\"12.00\">AddmmBackward</text>\n",
       "</g>\n",
       "<!-- 139761961056080&#45;&gt;139761961056464 -->\n",
       "<g id=\"edge8\" class=\"edge\"><title>139761961056080&#45;&gt;139761961056464</title>\n",
       "<path fill=\"none\" stroke=\"black\" d=\"M123.5,-387.257C123.5,-377.259 123.5,-361.422 123.5,-348.782\"/>\n",
       "<polygon fill=\"black\" stroke=\"black\" points=\"127,-348.725 123.5,-338.725 120,-348.725 127,-348.725\"/>\n",
       "</g>\n",
       "<!-- 139761961055120 -->\n",
       "<g id=\"node10\" class=\"node\"><title>139761961055120</title>\n",
       "<polygon fill=\"lightblue\" stroke=\"black\" points=\"58.5,-485 4.5,-485 4.5,-451 58.5,-451 58.5,-485\"/>\n",
       "<text text-anchor=\"middle\" x=\"31.5\" y=\"-471.4\" font-family=\"Times,serif\" font-size=\"12.00\">fc8.bias</text>\n",
       "<text text-anchor=\"middle\" x=\"31.5\" y=\"-458.4\" font-family=\"Times,serif\" font-size=\"12.00\"> (28)</text>\n",
       "</g>\n",
       "<!-- 139761961055120&#45;&gt;139761961056080 -->\n",
       "<g id=\"edge9\" class=\"edge\"><title>139761961055120&#45;&gt;139761961056080</title>\n",
       "<path fill=\"none\" stroke=\"black\" d=\"M53.3027,-450.885C67.9998,-440.022 87.3039,-425.754 101.948,-414.93\"/>\n",
       "<polygon fill=\"black\" stroke=\"black\" points=\"104.42,-417.455 110.381,-408.696 100.259,-411.826 104.42,-417.455\"/>\n",
       "</g>\n",
       "<!-- 139761961057936 -->\n",
       "<g id=\"node11\" class=\"node\"><title>139761961057936</title>\n",
       "<polygon fill=\"lightgrey\" stroke=\"black\" points=\"170.5,-478.5 76.5,-478.5 76.5,-457.5 170.5,-457.5 170.5,-478.5\"/>\n",
       "<text text-anchor=\"middle\" x=\"123.5\" y=\"-464.9\" font-family=\"Times,serif\" font-size=\"12.00\">ReluBackward0</text>\n",
       "</g>\n",
       "<!-- 139761961057936&#45;&gt;139761961056080 -->\n",
       "<g id=\"edge10\" class=\"edge\"><title>139761961057936&#45;&gt;139761961056080</title>\n",
       "<path fill=\"none\" stroke=\"black\" d=\"M123.5,-457.257C123.5,-447.259 123.5,-431.422 123.5,-418.782\"/>\n",
       "<polygon fill=\"black\" stroke=\"black\" points=\"127,-418.725 123.5,-408.725 120,-418.725 127,-418.725\"/>\n",
       "</g>\n",
       "<!-- 139761961055632 -->\n",
       "<g id=\"node12\" class=\"node\"><title>139761961055632</title>\n",
       "<polygon fill=\"lightgrey\" stroke=\"black\" points=\"175.5,-548.5 71.5,-548.5 71.5,-527.5 175.5,-527.5 175.5,-548.5\"/>\n",
       "<text text-anchor=\"middle\" x=\"123.5\" y=\"-534.9\" font-family=\"Times,serif\" font-size=\"12.00\">AddmmBackward</text>\n",
       "</g>\n",
       "<!-- 139761961055632&#45;&gt;139761961057936 -->\n",
       "<g id=\"edge11\" class=\"edge\"><title>139761961055632&#45;&gt;139761961057936</title>\n",
       "<path fill=\"none\" stroke=\"black\" d=\"M123.5,-527.257C123.5,-517.259 123.5,-501.422 123.5,-488.782\"/>\n",
       "<polygon fill=\"black\" stroke=\"black\" points=\"127,-488.725 123.5,-478.725 120,-488.725 127,-488.725\"/>\n",
       "</g>\n",
       "<!-- 139761961058064 -->\n",
       "<g id=\"node13\" class=\"node\"><title>139761961058064</title>\n",
       "<polygon fill=\"lightblue\" stroke=\"black\" points=\"58.5,-625 4.5,-625 4.5,-591 58.5,-591 58.5,-625\"/>\n",
       "<text text-anchor=\"middle\" x=\"31.5\" y=\"-611.4\" font-family=\"Times,serif\" font-size=\"12.00\">fc7.bias</text>\n",
       "<text text-anchor=\"middle\" x=\"31.5\" y=\"-598.4\" font-family=\"Times,serif\" font-size=\"12.00\"> (28)</text>\n",
       "</g>\n",
       "<!-- 139761961058064&#45;&gt;139761961055632 -->\n",
       "<g id=\"edge12\" class=\"edge\"><title>139761961058064&#45;&gt;139761961055632</title>\n",
       "<path fill=\"none\" stroke=\"black\" d=\"M53.3027,-590.885C67.9998,-580.022 87.3039,-565.754 101.948,-554.93\"/>\n",
       "<polygon fill=\"black\" stroke=\"black\" points=\"104.42,-557.455 110.381,-548.696 100.259,-551.826 104.42,-557.455\"/>\n",
       "</g>\n",
       "<!-- 139761961057424 -->\n",
       "<g id=\"node14\" class=\"node\"><title>139761961057424</title>\n",
       "<polygon fill=\"lightgrey\" stroke=\"black\" points=\"170.5,-618.5 76.5,-618.5 76.5,-597.5 170.5,-597.5 170.5,-618.5\"/>\n",
       "<text text-anchor=\"middle\" x=\"123.5\" y=\"-604.9\" font-family=\"Times,serif\" font-size=\"12.00\">ReluBackward0</text>\n",
       "</g>\n",
       "<!-- 139761961057424&#45;&gt;139761961055632 -->\n",
       "<g id=\"edge13\" class=\"edge\"><title>139761961057424&#45;&gt;139761961055632</title>\n",
       "<path fill=\"none\" stroke=\"black\" d=\"M123.5,-597.257C123.5,-587.259 123.5,-571.422 123.5,-558.782\"/>\n",
       "<polygon fill=\"black\" stroke=\"black\" points=\"127,-558.725 123.5,-548.725 120,-558.725 127,-558.725\"/>\n",
       "</g>\n",
       "<!-- 139761961056912 -->\n",
       "<g id=\"node15\" class=\"node\"><title>139761961056912</title>\n",
       "<polygon fill=\"lightgrey\" stroke=\"black\" points=\"175.5,-688.5 71.5,-688.5 71.5,-667.5 175.5,-667.5 175.5,-688.5\"/>\n",
       "<text text-anchor=\"middle\" x=\"123.5\" y=\"-674.9\" font-family=\"Times,serif\" font-size=\"12.00\">AddmmBackward</text>\n",
       "</g>\n",
       "<!-- 139761961056912&#45;&gt;139761961057424 -->\n",
       "<g id=\"edge14\" class=\"edge\"><title>139761961056912&#45;&gt;139761961057424</title>\n",
       "<path fill=\"none\" stroke=\"black\" d=\"M123.5,-667.257C123.5,-657.259 123.5,-641.422 123.5,-628.782\"/>\n",
       "<polygon fill=\"black\" stroke=\"black\" points=\"127,-628.725 123.5,-618.725 120,-628.725 127,-628.725\"/>\n",
       "</g>\n",
       "<!-- 139761961058128 -->\n",
       "<g id=\"node16\" class=\"node\"><title>139761961058128</title>\n",
       "<polygon fill=\"lightblue\" stroke=\"black\" points=\"58.5,-765 4.5,-765 4.5,-731 58.5,-731 58.5,-765\"/>\n",
       "<text text-anchor=\"middle\" x=\"31.5\" y=\"-751.4\" font-family=\"Times,serif\" font-size=\"12.00\">fc6.bias</text>\n",
       "<text text-anchor=\"middle\" x=\"31.5\" y=\"-738.4\" font-family=\"Times,serif\" font-size=\"12.00\"> (30)</text>\n",
       "</g>\n",
       "<!-- 139761961058128&#45;&gt;139761961056912 -->\n",
       "<g id=\"edge15\" class=\"edge\"><title>139761961058128&#45;&gt;139761961056912</title>\n",
       "<path fill=\"none\" stroke=\"black\" d=\"M53.3027,-730.885C67.9998,-720.022 87.3039,-705.754 101.948,-694.93\"/>\n",
       "<polygon fill=\"black\" stroke=\"black\" points=\"104.42,-697.455 110.381,-688.696 100.259,-691.826 104.42,-697.455\"/>\n",
       "</g>\n",
       "<!-- 139761961057296 -->\n",
       "<g id=\"node17\" class=\"node\"><title>139761961057296</title>\n",
       "<polygon fill=\"lightgrey\" stroke=\"black\" points=\"170.5,-758.5 76.5,-758.5 76.5,-737.5 170.5,-737.5 170.5,-758.5\"/>\n",
       "<text text-anchor=\"middle\" x=\"123.5\" y=\"-744.9\" font-family=\"Times,serif\" font-size=\"12.00\">ReluBackward0</text>\n",
       "</g>\n",
       "<!-- 139761961057296&#45;&gt;139761961056912 -->\n",
       "<g id=\"edge16\" class=\"edge\"><title>139761961057296&#45;&gt;139761961056912</title>\n",
       "<path fill=\"none\" stroke=\"black\" d=\"M123.5,-737.257C123.5,-727.259 123.5,-711.422 123.5,-698.782\"/>\n",
       "<polygon fill=\"black\" stroke=\"black\" points=\"127,-698.725 123.5,-688.725 120,-698.725 127,-698.725\"/>\n",
       "</g>\n",
       "<!-- 139761961056656 -->\n",
       "<g id=\"node18\" class=\"node\"><title>139761961056656</title>\n",
       "<polygon fill=\"lightgrey\" stroke=\"black\" points=\"175.5,-828.5 71.5,-828.5 71.5,-807.5 175.5,-807.5 175.5,-828.5\"/>\n",
       "<text text-anchor=\"middle\" x=\"123.5\" y=\"-814.9\" font-family=\"Times,serif\" font-size=\"12.00\">AddmmBackward</text>\n",
       "</g>\n",
       "<!-- 139761961056656&#45;&gt;139761961057296 -->\n",
       "<g id=\"edge17\" class=\"edge\"><title>139761961056656&#45;&gt;139761961057296</title>\n",
       "<path fill=\"none\" stroke=\"black\" d=\"M123.5,-807.257C123.5,-797.259 123.5,-781.422 123.5,-768.782\"/>\n",
       "<polygon fill=\"black\" stroke=\"black\" points=\"127,-768.725 123.5,-758.725 120,-768.725 127,-768.725\"/>\n",
       "</g>\n",
       "<!-- 139761961056976 -->\n",
       "<g id=\"node19\" class=\"node\"><title>139761961056976</title>\n",
       "<polygon fill=\"lightblue\" stroke=\"black\" points=\"58.5,-905 4.5,-905 4.5,-871 58.5,-871 58.5,-905\"/>\n",
       "<text text-anchor=\"middle\" x=\"31.5\" y=\"-891.4\" font-family=\"Times,serif\" font-size=\"12.00\">fc5.bias</text>\n",
       "<text text-anchor=\"middle\" x=\"31.5\" y=\"-878.4\" font-family=\"Times,serif\" font-size=\"12.00\"> (32)</text>\n",
       "</g>\n",
       "<!-- 139761961056976&#45;&gt;139761961056656 -->\n",
       "<g id=\"edge18\" class=\"edge\"><title>139761961056976&#45;&gt;139761961056656</title>\n",
       "<path fill=\"none\" stroke=\"black\" d=\"M53.3027,-870.885C67.9998,-860.022 87.3039,-845.754 101.948,-834.93\"/>\n",
       "<polygon fill=\"black\" stroke=\"black\" points=\"104.42,-837.455 110.381,-828.696 100.259,-831.826 104.42,-837.455\"/>\n",
       "</g>\n",
       "<!-- 139761961056144 -->\n",
       "<g id=\"node20\" class=\"node\"><title>139761961056144</title>\n",
       "<polygon fill=\"lightgrey\" stroke=\"black\" points=\"170.5,-898.5 76.5,-898.5 76.5,-877.5 170.5,-877.5 170.5,-898.5\"/>\n",
       "<text text-anchor=\"middle\" x=\"123.5\" y=\"-884.9\" font-family=\"Times,serif\" font-size=\"12.00\">ReluBackward0</text>\n",
       "</g>\n",
       "<!-- 139761961056144&#45;&gt;139761961056656 -->\n",
       "<g id=\"edge19\" class=\"edge\"><title>139761961056144&#45;&gt;139761961056656</title>\n",
       "<path fill=\"none\" stroke=\"black\" d=\"M123.5,-877.257C123.5,-867.259 123.5,-851.422 123.5,-838.782\"/>\n",
       "<polygon fill=\"black\" stroke=\"black\" points=\"127,-838.725 123.5,-828.725 120,-838.725 127,-838.725\"/>\n",
       "</g>\n",
       "<!-- 139761961056016 -->\n",
       "<g id=\"node21\" class=\"node\"><title>139761961056016</title>\n",
       "<polygon fill=\"lightgrey\" stroke=\"black\" points=\"175.5,-968.5 71.5,-968.5 71.5,-947.5 175.5,-947.5 175.5,-968.5\"/>\n",
       "<text text-anchor=\"middle\" x=\"123.5\" y=\"-954.9\" font-family=\"Times,serif\" font-size=\"12.00\">AddmmBackward</text>\n",
       "</g>\n",
       "<!-- 139761961056016&#45;&gt;139761961056144 -->\n",
       "<g id=\"edge20\" class=\"edge\"><title>139761961056016&#45;&gt;139761961056144</title>\n",
       "<path fill=\"none\" stroke=\"black\" d=\"M123.5,-947.257C123.5,-937.259 123.5,-921.422 123.5,-908.782\"/>\n",
       "<polygon fill=\"black\" stroke=\"black\" points=\"127,-908.725 123.5,-898.725 120,-908.725 127,-908.725\"/>\n",
       "</g>\n",
       "<!-- 139761961056528 -->\n",
       "<g id=\"node22\" class=\"node\"><title>139761961056528</title>\n",
       "<polygon fill=\"lightblue\" stroke=\"black\" points=\"58.5,-1045 4.5,-1045 4.5,-1011 58.5,-1011 58.5,-1045\"/>\n",
       "<text text-anchor=\"middle\" x=\"31.5\" y=\"-1031.4\" font-family=\"Times,serif\" font-size=\"12.00\">fc4.bias</text>\n",
       "<text text-anchor=\"middle\" x=\"31.5\" y=\"-1018.4\" font-family=\"Times,serif\" font-size=\"12.00\"> (32)</text>\n",
       "</g>\n",
       "<!-- 139761961056528&#45;&gt;139761961056016 -->\n",
       "<g id=\"edge21\" class=\"edge\"><title>139761961056528&#45;&gt;139761961056016</title>\n",
       "<path fill=\"none\" stroke=\"black\" d=\"M53.3027,-1010.88C67.9998,-1000.02 87.3039,-985.754 101.948,-974.93\"/>\n",
       "<polygon fill=\"black\" stroke=\"black\" points=\"104.42,-977.455 110.381,-968.696 100.259,-971.826 104.42,-977.455\"/>\n",
       "</g>\n",
       "<!-- 139761961056272 -->\n",
       "<g id=\"node23\" class=\"node\"><title>139761961056272</title>\n",
       "<polygon fill=\"lightgrey\" stroke=\"black\" points=\"170.5,-1038.5 76.5,-1038.5 76.5,-1017.5 170.5,-1017.5 170.5,-1038.5\"/>\n",
       "<text text-anchor=\"middle\" x=\"123.5\" y=\"-1024.9\" font-family=\"Times,serif\" font-size=\"12.00\">ReluBackward0</text>\n",
       "</g>\n",
       "<!-- 139761961056272&#45;&gt;139761961056016 -->\n",
       "<g id=\"edge22\" class=\"edge\"><title>139761961056272&#45;&gt;139761961056016</title>\n",
       "<path fill=\"none\" stroke=\"black\" d=\"M123.5,-1017.26C123.5,-1007.26 123.5,-991.422 123.5,-978.782\"/>\n",
       "<polygon fill=\"black\" stroke=\"black\" points=\"127,-978.725 123.5,-968.725 120,-978.725 127,-978.725\"/>\n",
       "</g>\n",
       "<!-- 139761961055888 -->\n",
       "<g id=\"node24\" class=\"node\"><title>139761961055888</title>\n",
       "<polygon fill=\"lightgrey\" stroke=\"black\" points=\"175.5,-1108.5 71.5,-1108.5 71.5,-1087.5 175.5,-1087.5 175.5,-1108.5\"/>\n",
       "<text text-anchor=\"middle\" x=\"123.5\" y=\"-1094.9\" font-family=\"Times,serif\" font-size=\"12.00\">AddmmBackward</text>\n",
       "</g>\n",
       "<!-- 139761961055888&#45;&gt;139761961056272 -->\n",
       "<g id=\"edge23\" class=\"edge\"><title>139761961055888&#45;&gt;139761961056272</title>\n",
       "<path fill=\"none\" stroke=\"black\" d=\"M123.5,-1087.26C123.5,-1077.26 123.5,-1061.42 123.5,-1048.78\"/>\n",
       "<polygon fill=\"black\" stroke=\"black\" points=\"127,-1048.72 123.5,-1038.72 120,-1048.72 127,-1048.72\"/>\n",
       "</g>\n",
       "<!-- 139761961055824 -->\n",
       "<g id=\"node25\" class=\"node\"><title>139761961055824</title>\n",
       "<polygon fill=\"lightblue\" stroke=\"black\" points=\"58.5,-1185 4.5,-1185 4.5,-1151 58.5,-1151 58.5,-1185\"/>\n",
       "<text text-anchor=\"middle\" x=\"31.5\" y=\"-1171.4\" font-family=\"Times,serif\" font-size=\"12.00\">fc3.bias</text>\n",
       "<text text-anchor=\"middle\" x=\"31.5\" y=\"-1158.4\" font-family=\"Times,serif\" font-size=\"12.00\"> (32)</text>\n",
       "</g>\n",
       "<!-- 139761961055824&#45;&gt;139761961055888 -->\n",
       "<g id=\"edge24\" class=\"edge\"><title>139761961055824&#45;&gt;139761961055888</title>\n",
       "<path fill=\"none\" stroke=\"black\" d=\"M53.3027,-1150.88C67.9998,-1140.02 87.3039,-1125.75 101.948,-1114.93\"/>\n",
       "<polygon fill=\"black\" stroke=\"black\" points=\"104.42,-1117.46 110.381,-1108.7 100.259,-1111.83 104.42,-1117.46\"/>\n",
       "</g>\n",
       "<!-- 139761961056208 -->\n",
       "<g id=\"node26\" class=\"node\"><title>139761961056208</title>\n",
       "<polygon fill=\"lightgrey\" stroke=\"black\" points=\"170.5,-1178.5 76.5,-1178.5 76.5,-1157.5 170.5,-1157.5 170.5,-1178.5\"/>\n",
       "<text text-anchor=\"middle\" x=\"123.5\" y=\"-1164.9\" font-family=\"Times,serif\" font-size=\"12.00\">ReluBackward0</text>\n",
       "</g>\n",
       "<!-- 139761961056208&#45;&gt;139761961055888 -->\n",
       "<g id=\"edge25\" class=\"edge\"><title>139761961056208&#45;&gt;139761961055888</title>\n",
       "<path fill=\"none\" stroke=\"black\" d=\"M123.5,-1157.26C123.5,-1147.26 123.5,-1131.42 123.5,-1118.78\"/>\n",
       "<polygon fill=\"black\" stroke=\"black\" points=\"127,-1118.72 123.5,-1108.72 120,-1118.72 127,-1118.72\"/>\n",
       "</g>\n",
       "<!-- 139761961054800 -->\n",
       "<g id=\"node27\" class=\"node\"><title>139761961054800</title>\n",
       "<polygon fill=\"lightgrey\" stroke=\"black\" points=\"175.5,-1248.5 71.5,-1248.5 71.5,-1227.5 175.5,-1227.5 175.5,-1248.5\"/>\n",
       "<text text-anchor=\"middle\" x=\"123.5\" y=\"-1234.9\" font-family=\"Times,serif\" font-size=\"12.00\">AddmmBackward</text>\n",
       "</g>\n",
       "<!-- 139761961054800&#45;&gt;139761961056208 -->\n",
       "<g id=\"edge26\" class=\"edge\"><title>139761961054800&#45;&gt;139761961056208</title>\n",
       "<path fill=\"none\" stroke=\"black\" d=\"M123.5,-1227.26C123.5,-1217.26 123.5,-1201.42 123.5,-1188.78\"/>\n",
       "<polygon fill=\"black\" stroke=\"black\" points=\"127,-1188.72 123.5,-1178.72 120,-1188.72 127,-1188.72\"/>\n",
       "</g>\n",
       "<!-- 139761961056336 -->\n",
       "<g id=\"node28\" class=\"node\"><title>139761961056336</title>\n",
       "<polygon fill=\"lightblue\" stroke=\"black\" points=\"58.5,-1325 4.5,-1325 4.5,-1291 58.5,-1291 58.5,-1325\"/>\n",
       "<text text-anchor=\"middle\" x=\"31.5\" y=\"-1311.4\" font-family=\"Times,serif\" font-size=\"12.00\">fc2.bias</text>\n",
       "<text text-anchor=\"middle\" x=\"31.5\" y=\"-1298.4\" font-family=\"Times,serif\" font-size=\"12.00\"> (32)</text>\n",
       "</g>\n",
       "<!-- 139761961056336&#45;&gt;139761961054800 -->\n",
       "<g id=\"edge27\" class=\"edge\"><title>139761961056336&#45;&gt;139761961054800</title>\n",
       "<path fill=\"none\" stroke=\"black\" d=\"M53.3027,-1290.88C67.9998,-1280.02 87.3039,-1265.75 101.948,-1254.93\"/>\n",
       "<polygon fill=\"black\" stroke=\"black\" points=\"104.42,-1257.46 110.381,-1248.7 100.259,-1251.83 104.42,-1257.46\"/>\n",
       "</g>\n",
       "<!-- 139761961055376 -->\n",
       "<g id=\"node29\" class=\"node\"><title>139761961055376</title>\n",
       "<polygon fill=\"lightgrey\" stroke=\"black\" points=\"170.5,-1318.5 76.5,-1318.5 76.5,-1297.5 170.5,-1297.5 170.5,-1318.5\"/>\n",
       "<text text-anchor=\"middle\" x=\"123.5\" y=\"-1304.9\" font-family=\"Times,serif\" font-size=\"12.00\">ReluBackward0</text>\n",
       "</g>\n",
       "<!-- 139761961055376&#45;&gt;139761961054800 -->\n",
       "<g id=\"edge28\" class=\"edge\"><title>139761961055376&#45;&gt;139761961054800</title>\n",
       "<path fill=\"none\" stroke=\"black\" d=\"M123.5,-1297.26C123.5,-1287.26 123.5,-1271.42 123.5,-1258.78\"/>\n",
       "<polygon fill=\"black\" stroke=\"black\" points=\"127,-1258.72 123.5,-1248.72 120,-1258.72 127,-1258.72\"/>\n",
       "</g>\n",
       "<!-- 139761961054608 -->\n",
       "<g id=\"node30\" class=\"node\"><title>139761961054608</title>\n",
       "<polygon fill=\"lightgrey\" stroke=\"black\" points=\"175.5,-1388.5 71.5,-1388.5 71.5,-1367.5 175.5,-1367.5 175.5,-1388.5\"/>\n",
       "<text text-anchor=\"middle\" x=\"123.5\" y=\"-1374.9\" font-family=\"Times,serif\" font-size=\"12.00\">AddmmBackward</text>\n",
       "</g>\n",
       "<!-- 139761961054608&#45;&gt;139761961055376 -->\n",
       "<g id=\"edge29\" class=\"edge\"><title>139761961054608&#45;&gt;139761961055376</title>\n",
       "<path fill=\"none\" stroke=\"black\" d=\"M123.5,-1367.26C123.5,-1357.26 123.5,-1341.42 123.5,-1328.78\"/>\n",
       "<polygon fill=\"black\" stroke=\"black\" points=\"127,-1328.72 123.5,-1318.72 120,-1328.72 127,-1328.72\"/>\n",
       "</g>\n",
       "<!-- 139761961055248 -->\n",
       "<g id=\"node31\" class=\"node\"><title>139761961055248</title>\n",
       "<polygon fill=\"lightblue\" stroke=\"black\" points=\"109.5,-1465 55.5,-1465 55.5,-1431 109.5,-1431 109.5,-1465\"/>\n",
       "<text text-anchor=\"middle\" x=\"82.5\" y=\"-1451.4\" font-family=\"Times,serif\" font-size=\"12.00\">fc1.bias</text>\n",
       "<text text-anchor=\"middle\" x=\"82.5\" y=\"-1438.4\" font-family=\"Times,serif\" font-size=\"12.00\"> (32)</text>\n",
       "</g>\n",
       "<!-- 139761961055248&#45;&gt;139761961054608 -->\n",
       "<g id=\"edge30\" class=\"edge\"><title>139761961055248&#45;&gt;139761961054608</title>\n",
       "<path fill=\"none\" stroke=\"black\" d=\"M92.2164,-1430.88C98.2356,-1420.9 105.989,-1408.04 112.271,-1397.62\"/>\n",
       "<polygon fill=\"black\" stroke=\"black\" points=\"115.368,-1399.27 117.534,-1388.89 109.373,-1395.65 115.368,-1399.27\"/>\n",
       "</g>\n",
       "<!-- 139761961054544 -->\n",
       "<g id=\"node32\" class=\"node\"><title>139761961054544</title>\n",
       "<polygon fill=\"lightgrey\" stroke=\"black\" points=\"201,-1458.5 128,-1458.5 128,-1437.5 201,-1437.5 201,-1458.5\"/>\n",
       "<text text-anchor=\"middle\" x=\"164.5\" y=\"-1444.9\" font-family=\"Times,serif\" font-size=\"12.00\">TBackward</text>\n",
       "</g>\n",
       "<!-- 139761961054544&#45;&gt;139761961054608 -->\n",
       "<g id=\"edge31\" class=\"edge\"><title>139761961054544&#45;&gt;139761961054608</title>\n",
       "<path fill=\"none\" stroke=\"black\" d=\"M158.626,-1437.26C152.415,-1426.96 142.467,-1410.46 134.74,-1397.64\"/>\n",
       "<polygon fill=\"black\" stroke=\"black\" points=\"137.524,-1395.48 129.363,-1388.72 131.53,-1399.1 137.524,-1395.48\"/>\n",
       "</g>\n",
       "<!-- 139761961055440 -->\n",
       "<g id=\"node33\" class=\"node\"><title>139761961055440</title>\n",
       "<polygon fill=\"lightblue\" stroke=\"black\" points=\"198,-1535 131,-1535 131,-1501 198,-1501 198,-1535\"/>\n",
       "<text text-anchor=\"middle\" x=\"164.5\" y=\"-1521.4\" font-family=\"Times,serif\" font-size=\"12.00\">fc1.weight</text>\n",
       "<text text-anchor=\"middle\" x=\"164.5\" y=\"-1508.4\" font-family=\"Times,serif\" font-size=\"12.00\"> (32, 16)</text>\n",
       "</g>\n",
       "<!-- 139761961055440&#45;&gt;139761961054544 -->\n",
       "<g id=\"edge32\" class=\"edge\"><title>139761961055440&#45;&gt;139761961054544</title>\n",
       "<path fill=\"none\" stroke=\"black\" d=\"M164.5,-1500.88C164.5,-1491.31 164.5,-1479.09 164.5,-1468.91\"/>\n",
       "<polygon fill=\"black\" stroke=\"black\" points=\"168,-1468.89 164.5,-1458.89 161,-1468.89 168,-1468.89\"/>\n",
       "</g>\n",
       "<!-- 139761961054672 -->\n",
       "<g id=\"node34\" class=\"node\"><title>139761961054672</title>\n",
       "<polygon fill=\"lightgrey\" stroke=\"black\" points=\"263,-1318.5 190,-1318.5 190,-1297.5 263,-1297.5 263,-1318.5\"/>\n",
       "<text text-anchor=\"middle\" x=\"226.5\" y=\"-1304.9\" font-family=\"Times,serif\" font-size=\"12.00\">TBackward</text>\n",
       "</g>\n",
       "<!-- 139761961054672&#45;&gt;139761961054800 -->\n",
       "<g id=\"edge33\" class=\"edge\"><title>139761961054672&#45;&gt;139761961054800</title>\n",
       "<path fill=\"none\" stroke=\"black\" d=\"M211.743,-1297.26C194.666,-1285.98 166.344,-1267.29 146.401,-1254.12\"/>\n",
       "<polygon fill=\"black\" stroke=\"black\" points=\"148.172,-1251.09 137.898,-1248.51 144.315,-1256.94 148.172,-1251.09\"/>\n",
       "</g>\n",
       "<!-- 139761961054928 -->\n",
       "<g id=\"node35\" class=\"node\"><title>139761961054928</title>\n",
       "<polygon fill=\"lightblue\" stroke=\"black\" points=\"261,-1395 194,-1395 194,-1361 261,-1361 261,-1395\"/>\n",
       "<text text-anchor=\"middle\" x=\"227.5\" y=\"-1381.4\" font-family=\"Times,serif\" font-size=\"12.00\">fc2.weight</text>\n",
       "<text text-anchor=\"middle\" x=\"227.5\" y=\"-1368.4\" font-family=\"Times,serif\" font-size=\"12.00\"> (32, 32)</text>\n",
       "</g>\n",
       "<!-- 139761961054928&#45;&gt;139761961054672 -->\n",
       "<g id=\"edge34\" class=\"edge\"><title>139761961054928&#45;&gt;139761961054672</title>\n",
       "<path fill=\"none\" stroke=\"black\" d=\"M227.263,-1360.88C227.122,-1351.31 226.942,-1339.09 226.793,-1328.91\"/>\n",
       "<polygon fill=\"black\" stroke=\"black\" points=\"230.292,-1328.84 226.646,-1318.89 223.293,-1328.95 230.292,-1328.84\"/>\n",
       "</g>\n",
       "<!-- 139761961056784 -->\n",
       "<g id=\"node36\" class=\"node\"><title>139761961056784</title>\n",
       "<polygon fill=\"lightgrey\" stroke=\"black\" points=\"263,-1178.5 190,-1178.5 190,-1157.5 263,-1157.5 263,-1178.5\"/>\n",
       "<text text-anchor=\"middle\" x=\"226.5\" y=\"-1164.9\" font-family=\"Times,serif\" font-size=\"12.00\">TBackward</text>\n",
       "</g>\n",
       "<!-- 139761961056784&#45;&gt;139761961055888 -->\n",
       "<g id=\"edge35\" class=\"edge\"><title>139761961056784&#45;&gt;139761961055888</title>\n",
       "<path fill=\"none\" stroke=\"black\" d=\"M211.743,-1157.26C194.666,-1145.98 166.344,-1127.29 146.401,-1114.12\"/>\n",
       "<polygon fill=\"black\" stroke=\"black\" points=\"148.172,-1111.09 137.898,-1108.51 144.315,-1116.94 148.172,-1111.09\"/>\n",
       "</g>\n",
       "<!-- 139761961055184 -->\n",
       "<g id=\"node37\" class=\"node\"><title>139761961055184</title>\n",
       "<polygon fill=\"lightblue\" stroke=\"black\" points=\"261,-1255 194,-1255 194,-1221 261,-1221 261,-1255\"/>\n",
       "<text text-anchor=\"middle\" x=\"227.5\" y=\"-1241.4\" font-family=\"Times,serif\" font-size=\"12.00\">fc3.weight</text>\n",
       "<text text-anchor=\"middle\" x=\"227.5\" y=\"-1228.4\" font-family=\"Times,serif\" font-size=\"12.00\"> (32, 32)</text>\n",
       "</g>\n",
       "<!-- 139761961055184&#45;&gt;139761961056784 -->\n",
       "<g id=\"edge36\" class=\"edge\"><title>139761961055184&#45;&gt;139761961056784</title>\n",
       "<path fill=\"none\" stroke=\"black\" d=\"M227.263,-1220.88C227.122,-1211.31 226.942,-1199.09 226.793,-1188.91\"/>\n",
       "<polygon fill=\"black\" stroke=\"black\" points=\"230.292,-1188.84 226.646,-1178.89 223.293,-1188.95 230.292,-1188.84\"/>\n",
       "</g>\n",
       "<!-- 139761961055952 -->\n",
       "<g id=\"node38\" class=\"node\"><title>139761961055952</title>\n",
       "<polygon fill=\"lightgrey\" stroke=\"black\" points=\"263,-1038.5 190,-1038.5 190,-1017.5 263,-1017.5 263,-1038.5\"/>\n",
       "<text text-anchor=\"middle\" x=\"226.5\" y=\"-1024.9\" font-family=\"Times,serif\" font-size=\"12.00\">TBackward</text>\n",
       "</g>\n",
       "<!-- 139761961055952&#45;&gt;139761961056016 -->\n",
       "<g id=\"edge37\" class=\"edge\"><title>139761961055952&#45;&gt;139761961056016</title>\n",
       "<path fill=\"none\" stroke=\"black\" d=\"M211.743,-1017.26C194.666,-1005.98 166.344,-987.286 146.401,-974.119\"/>\n",
       "<polygon fill=\"black\" stroke=\"black\" points=\"148.172,-971.094 137.898,-968.505 144.315,-976.936 148.172,-971.094\"/>\n",
       "</g>\n",
       "<!-- 139761961055568 -->\n",
       "<g id=\"node39\" class=\"node\"><title>139761961055568</title>\n",
       "<polygon fill=\"lightblue\" stroke=\"black\" points=\"261,-1115 194,-1115 194,-1081 261,-1081 261,-1115\"/>\n",
       "<text text-anchor=\"middle\" x=\"227.5\" y=\"-1101.4\" font-family=\"Times,serif\" font-size=\"12.00\">fc4.weight</text>\n",
       "<text text-anchor=\"middle\" x=\"227.5\" y=\"-1088.4\" font-family=\"Times,serif\" font-size=\"12.00\"> (32, 32)</text>\n",
       "</g>\n",
       "<!-- 139761961055568&#45;&gt;139761961055952 -->\n",
       "<g id=\"edge38\" class=\"edge\"><title>139761961055568&#45;&gt;139761961055952</title>\n",
       "<path fill=\"none\" stroke=\"black\" d=\"M227.263,-1080.88C227.122,-1071.31 226.942,-1059.09 226.793,-1048.91\"/>\n",
       "<polygon fill=\"black\" stroke=\"black\" points=\"230.292,-1048.84 226.646,-1038.89 223.293,-1048.95 230.292,-1048.84\"/>\n",
       "</g>\n",
       "<!-- 139761961056592 -->\n",
       "<g id=\"node40\" class=\"node\"><title>139761961056592</title>\n",
       "<polygon fill=\"lightgrey\" stroke=\"black\" points=\"263,-898.5 190,-898.5 190,-877.5 263,-877.5 263,-898.5\"/>\n",
       "<text text-anchor=\"middle\" x=\"226.5\" y=\"-884.9\" font-family=\"Times,serif\" font-size=\"12.00\">TBackward</text>\n",
       "</g>\n",
       "<!-- 139761961056592&#45;&gt;139761961056656 -->\n",
       "<g id=\"edge39\" class=\"edge\"><title>139761961056592&#45;&gt;139761961056656</title>\n",
       "<path fill=\"none\" stroke=\"black\" d=\"M211.743,-877.257C194.666,-865.984 166.344,-847.286 146.401,-834.119\"/>\n",
       "<polygon fill=\"black\" stroke=\"black\" points=\"148.172,-831.094 137.898,-828.505 144.315,-836.936 148.172,-831.094\"/>\n",
       "</g>\n",
       "<!-- 139761961056720 -->\n",
       "<g id=\"node41\" class=\"node\"><title>139761961056720</title>\n",
       "<polygon fill=\"lightblue\" stroke=\"black\" points=\"261,-975 194,-975 194,-941 261,-941 261,-975\"/>\n",
       "<text text-anchor=\"middle\" x=\"227.5\" y=\"-961.4\" font-family=\"Times,serif\" font-size=\"12.00\">fc5.weight</text>\n",
       "<text text-anchor=\"middle\" x=\"227.5\" y=\"-948.4\" font-family=\"Times,serif\" font-size=\"12.00\"> (32, 32)</text>\n",
       "</g>\n",
       "<!-- 139761961056720&#45;&gt;139761961056592 -->\n",
       "<g id=\"edge40\" class=\"edge\"><title>139761961056720&#45;&gt;139761961056592</title>\n",
       "<path fill=\"none\" stroke=\"black\" d=\"M227.263,-940.885C227.122,-931.309 226.942,-919.088 226.793,-908.912\"/>\n",
       "<polygon fill=\"black\" stroke=\"black\" points=\"230.292,-908.842 226.646,-898.895 223.293,-908.945 230.292,-908.842\"/>\n",
       "</g>\n",
       "<!-- 139761961057744 -->\n",
       "<g id=\"node42\" class=\"node\"><title>139761961057744</title>\n",
       "<polygon fill=\"lightgrey\" stroke=\"black\" points=\"263,-758.5 190,-758.5 190,-737.5 263,-737.5 263,-758.5\"/>\n",
       "<text text-anchor=\"middle\" x=\"226.5\" y=\"-744.9\" font-family=\"Times,serif\" font-size=\"12.00\">TBackward</text>\n",
       "</g>\n",
       "<!-- 139761961057744&#45;&gt;139761961056912 -->\n",
       "<g id=\"edge41\" class=\"edge\"><title>139761961057744&#45;&gt;139761961056912</title>\n",
       "<path fill=\"none\" stroke=\"black\" d=\"M211.743,-737.257C194.666,-725.984 166.344,-707.286 146.401,-694.119\"/>\n",
       "<polygon fill=\"black\" stroke=\"black\" points=\"148.172,-691.094 137.898,-688.505 144.315,-696.936 148.172,-691.094\"/>\n",
       "</g>\n",
       "<!-- 139761961058192 -->\n",
       "<g id=\"node43\" class=\"node\"><title>139761961058192</title>\n",
       "<polygon fill=\"lightblue\" stroke=\"black\" points=\"261,-835 194,-835 194,-801 261,-801 261,-835\"/>\n",
       "<text text-anchor=\"middle\" x=\"227.5\" y=\"-821.4\" font-family=\"Times,serif\" font-size=\"12.00\">fc6.weight</text>\n",
       "<text text-anchor=\"middle\" x=\"227.5\" y=\"-808.4\" font-family=\"Times,serif\" font-size=\"12.00\"> (30, 32)</text>\n",
       "</g>\n",
       "<!-- 139761961058192&#45;&gt;139761961057744 -->\n",
       "<g id=\"edge42\" class=\"edge\"><title>139761961058192&#45;&gt;139761961057744</title>\n",
       "<path fill=\"none\" stroke=\"black\" d=\"M227.263,-800.885C227.122,-791.309 226.942,-779.088 226.793,-768.912\"/>\n",
       "<polygon fill=\"black\" stroke=\"black\" points=\"230.292,-768.842 226.646,-758.895 223.293,-768.945 230.292,-768.842\"/>\n",
       "</g>\n",
       "<!-- 139761961057232 -->\n",
       "<g id=\"node44\" class=\"node\"><title>139761961057232</title>\n",
       "<polygon fill=\"lightgrey\" stroke=\"black\" points=\"263,-618.5 190,-618.5 190,-597.5 263,-597.5 263,-618.5\"/>\n",
       "<text text-anchor=\"middle\" x=\"226.5\" y=\"-604.9\" font-family=\"Times,serif\" font-size=\"12.00\">TBackward</text>\n",
       "</g>\n",
       "<!-- 139761961057232&#45;&gt;139761961055632 -->\n",
       "<g id=\"edge43\" class=\"edge\"><title>139761961057232&#45;&gt;139761961055632</title>\n",
       "<path fill=\"none\" stroke=\"black\" d=\"M211.743,-597.257C194.666,-585.984 166.344,-567.286 146.401,-554.119\"/>\n",
       "<polygon fill=\"black\" stroke=\"black\" points=\"148.172,-551.094 137.898,-548.505 144.315,-556.936 148.172,-551.094\"/>\n",
       "</g>\n",
       "<!-- 139761961057360 -->\n",
       "<g id=\"node45\" class=\"node\"><title>139761961057360</title>\n",
       "<polygon fill=\"lightblue\" stroke=\"black\" points=\"261,-695 194,-695 194,-661 261,-661 261,-695\"/>\n",
       "<text text-anchor=\"middle\" x=\"227.5\" y=\"-681.4\" font-family=\"Times,serif\" font-size=\"12.00\">fc7.weight</text>\n",
       "<text text-anchor=\"middle\" x=\"227.5\" y=\"-668.4\" font-family=\"Times,serif\" font-size=\"12.00\"> (28, 30)</text>\n",
       "</g>\n",
       "<!-- 139761961057360&#45;&gt;139761961057232 -->\n",
       "<g id=\"edge44\" class=\"edge\"><title>139761961057360&#45;&gt;139761961057232</title>\n",
       "<path fill=\"none\" stroke=\"black\" d=\"M227.263,-660.885C227.122,-651.309 226.942,-639.088 226.793,-628.912\"/>\n",
       "<polygon fill=\"black\" stroke=\"black\" points=\"230.292,-628.842 226.646,-618.895 223.293,-628.945 230.292,-628.842\"/>\n",
       "</g>\n",
       "<!-- 139761961057552 -->\n",
       "<g id=\"node46\" class=\"node\"><title>139761961057552</title>\n",
       "<polygon fill=\"lightgrey\" stroke=\"black\" points=\"263,-478.5 190,-478.5 190,-457.5 263,-457.5 263,-478.5\"/>\n",
       "<text text-anchor=\"middle\" x=\"226.5\" y=\"-464.9\" font-family=\"Times,serif\" font-size=\"12.00\">TBackward</text>\n",
       "</g>\n",
       "<!-- 139761961057552&#45;&gt;139761961056080 -->\n",
       "<g id=\"edge45\" class=\"edge\"><title>139761961057552&#45;&gt;139761961056080</title>\n",
       "<path fill=\"none\" stroke=\"black\" d=\"M211.743,-457.257C194.666,-445.984 166.344,-427.286 146.401,-414.119\"/>\n",
       "<polygon fill=\"black\" stroke=\"black\" points=\"148.172,-411.094 137.898,-408.505 144.315,-416.936 148.172,-411.094\"/>\n",
       "</g>\n",
       "<!-- 139761961057104 -->\n",
       "<g id=\"node47\" class=\"node\"><title>139761961057104</title>\n",
       "<polygon fill=\"lightblue\" stroke=\"black\" points=\"261,-555 194,-555 194,-521 261,-521 261,-555\"/>\n",
       "<text text-anchor=\"middle\" x=\"227.5\" y=\"-541.4\" font-family=\"Times,serif\" font-size=\"12.00\">fc8.weight</text>\n",
       "<text text-anchor=\"middle\" x=\"227.5\" y=\"-528.4\" font-family=\"Times,serif\" font-size=\"12.00\"> (28, 28)</text>\n",
       "</g>\n",
       "<!-- 139761961057104&#45;&gt;139761961057552 -->\n",
       "<g id=\"edge46\" class=\"edge\"><title>139761961057104&#45;&gt;139761961057552</title>\n",
       "<path fill=\"none\" stroke=\"black\" d=\"M227.263,-520.885C227.122,-511.309 226.942,-499.088 226.793,-488.912\"/>\n",
       "<polygon fill=\"black\" stroke=\"black\" points=\"230.292,-488.842 226.646,-478.895 223.293,-488.945 230.292,-488.842\"/>\n",
       "</g>\n",
       "<!-- 139761961054736 -->\n",
       "<g id=\"node48\" class=\"node\"><title>139761961054736</title>\n",
       "<polygon fill=\"lightgrey\" stroke=\"black\" points=\"263,-338.5 190,-338.5 190,-317.5 263,-317.5 263,-338.5\"/>\n",
       "<text text-anchor=\"middle\" x=\"226.5\" y=\"-324.9\" font-family=\"Times,serif\" font-size=\"12.00\">TBackward</text>\n",
       "</g>\n",
       "<!-- 139761961054736&#45;&gt;139761961054416 -->\n",
       "<g id=\"edge47\" class=\"edge\"><title>139761961054736&#45;&gt;139761961054416</title>\n",
       "<path fill=\"none\" stroke=\"black\" d=\"M211.743,-317.257C194.666,-305.984 166.344,-287.286 146.401,-274.119\"/>\n",
       "<polygon fill=\"black\" stroke=\"black\" points=\"148.172,-271.094 137.898,-268.505 144.315,-276.936 148.172,-271.094\"/>\n",
       "</g>\n",
       "<!-- 139761961057488 -->\n",
       "<g id=\"node49\" class=\"node\"><title>139761961057488</title>\n",
       "<polygon fill=\"lightblue\" stroke=\"black\" points=\"261,-415 194,-415 194,-381 261,-381 261,-415\"/>\n",
       "<text text-anchor=\"middle\" x=\"227.5\" y=\"-401.4\" font-family=\"Times,serif\" font-size=\"12.00\">fc9.weight</text>\n",
       "<text text-anchor=\"middle\" x=\"227.5\" y=\"-388.4\" font-family=\"Times,serif\" font-size=\"12.00\"> (28, 28)</text>\n",
       "</g>\n",
       "<!-- 139761961057488&#45;&gt;139761961054736 -->\n",
       "<g id=\"edge48\" class=\"edge\"><title>139761961057488&#45;&gt;139761961054736</title>\n",
       "<path fill=\"none\" stroke=\"black\" d=\"M227.263,-380.885C227.122,-371.309 226.942,-359.088 226.793,-348.912\"/>\n",
       "<polygon fill=\"black\" stroke=\"black\" points=\"230.292,-348.842 226.646,-338.895 223.293,-348.945 230.292,-348.842\"/>\n",
       "</g>\n",
       "<!-- 139761961056848 -->\n",
       "<g id=\"node50\" class=\"node\"><title>139761961056848</title>\n",
       "<polygon fill=\"lightgrey\" stroke=\"black\" points=\"265,-198.5 192,-198.5 192,-177.5 265,-177.5 265,-198.5\"/>\n",
       "<text text-anchor=\"middle\" x=\"228.5\" y=\"-184.9\" font-family=\"Times,serif\" font-size=\"12.00\">TBackward</text>\n",
       "</g>\n",
       "<!-- 139761961056848&#45;&gt;139761961120400 -->\n",
       "<g id=\"edge49\" class=\"edge\"><title>139761961056848&#45;&gt;139761961120400</title>\n",
       "<path fill=\"none\" stroke=\"black\" d=\"M212.25,-177.391C195.383,-167.416 168.79,-151.691 149.297,-140.163\"/>\n",
       "<polygon fill=\"black\" stroke=\"black\" points=\"151.025,-137.119 140.636,-135.042 147.462,-143.145 151.025,-137.119\"/>\n",
       "</g>\n",
       "<!-- 139761961057040 -->\n",
       "<g id=\"node51\" class=\"node\"><title>139761961057040</title>\n",
       "<polygon fill=\"lightblue\" stroke=\"black\" points=\"267,-275 194,-275 194,-241 267,-241 267,-275\"/>\n",
       "<text text-anchor=\"middle\" x=\"230.5\" y=\"-261.4\" font-family=\"Times,serif\" font-size=\"12.00\">fc10.weight</text>\n",
       "<text text-anchor=\"middle\" x=\"230.5\" y=\"-248.4\" font-family=\"Times,serif\" font-size=\"12.00\"> (15, 28)</text>\n",
       "</g>\n",
       "<!-- 139761961057040&#45;&gt;139761961056848 -->\n",
       "<g id=\"edge50\" class=\"edge\"><title>139761961057040&#45;&gt;139761961056848</title>\n",
       "<path fill=\"none\" stroke=\"black\" d=\"M230.026,-240.885C229.744,-231.309 229.385,-219.088 229.086,-208.912\"/>\n",
       "<polygon fill=\"black\" stroke=\"black\" points=\"232.584,-208.787 228.791,-198.895 225.587,-208.993 232.584,-208.787\"/>\n",
       "</g>\n",
       "</g>\n",
       "</svg>\n"
      ],
      "text/plain": [
       "<graphviz.dot.Digraph at 0x7f1cde0bb250>"
      ]
     },
     "execution_count": 31,
     "metadata": {},
     "output_type": "execute_result"
    }
   ],
   "source": [
    "make_dot(y.mean(),params=dict(net.named_parameters()))"
   ]
  },
  {
   "cell_type": "markdown",
   "metadata": {},
   "source": [
    "## TRAIN"
   ]
  },
  {
   "cell_type": "code",
   "execution_count": null,
   "metadata": {},
   "outputs": [],
   "source": []
  },
  {
   "cell_type": "code",
   "execution_count": 25,
   "metadata": {},
   "outputs": [
    {
     "name": "stderr",
     "output_type": "stream",
     "text": [
      "Epoch: 0it [00:00, ?it/s]46/2447 ; Loss : 0.026958966627717018: 0it [01:15, ?it/s]"
     ]
    },
    {
     "name": "stdout",
     "output_type": "stream",
     "text": [
      "Epoch : 0 ; Curr itr : 2447/2447 ; Loss : 0.026958966627717018 \n"
     ]
    },
    {
     "name": "stderr",
     "output_type": "stream",
     "text": [
      "Epoch: 0it [00:00, ?it/s]46/2447 ; Loss : 0.02938605099916458: 0it [01:15, ?it/s] "
     ]
    },
    {
     "name": "stdout",
     "output_type": "stream",
     "text": [
      "Epoch : 1 ; Curr itr : 2447/2447 ; Loss : 0.02938605099916458 \n"
     ]
    },
    {
     "name": "stderr",
     "output_type": "stream",
     "text": [
      "Epoch: 0it [00:00, ?it/s]46/2447 ; Loss : 0.013021253980696201: 0it [01:16, ?it/s]"
     ]
    },
    {
     "name": "stdout",
     "output_type": "stream",
     "text": [
      "Epoch : 2 ; Curr itr : 2447/2447 ; Loss : 0.013021253980696201 \n"
     ]
    },
    {
     "name": "stderr",
     "output_type": "stream",
     "text": [
      "Epoch: 0it [00:00, ?it/s]46/2447 ; Loss : 0.009087873622775078: 0it [01:17, ?it/s]"
     ]
    },
    {
     "name": "stdout",
     "output_type": "stream",
     "text": [
      "Epoch : 3 ; Curr itr : 2447/2447 ; Loss : 0.009087873622775078 \n"
     ]
    },
    {
     "name": "stderr",
     "output_type": "stream",
     "text": [
      "Epoch: 0it [00:00, ?it/s]46/2447 ; Loss : 0.024397756904363632: 0it [01:16, ?it/s]"
     ]
    },
    {
     "name": "stdout",
     "output_type": "stream",
     "text": [
      "Epoch : 4 ; Curr itr : 2447/2447 ; Loss : 0.024397756904363632 \n"
     ]
    },
    {
     "name": "stderr",
     "output_type": "stream",
     "text": [
      "Epoch: 0it [00:00, ?it/s]46/2447 ; Loss : 0.012914312072098255: 0it [01:16, ?it/s]"
     ]
    },
    {
     "name": "stdout",
     "output_type": "stream",
     "text": [
      "Epoch : 5 ; Curr itr : 2447/2447 ; Loss : 0.012914312072098255 \n"
     ]
    },
    {
     "name": "stderr",
     "output_type": "stream",
     "text": [
      "Epoch: 0it [00:00, ?it/s]46/2447 ; Loss : 0.030406033620238304: 0it [01:18, ?it/s]"
     ]
    },
    {
     "name": "stdout",
     "output_type": "stream",
     "text": [
      "Epoch : 6 ; Curr itr : 2447/2447 ; Loss : 0.030406033620238304 \n"
     ]
    },
    {
     "name": "stderr",
     "output_type": "stream",
     "text": [
      "Epoch: 0it [00:00, ?it/s]46/2447 ; Loss : 0.07506664842367172: 0it [01:16, ?it/s] "
     ]
    },
    {
     "name": "stdout",
     "output_type": "stream",
     "text": [
      "Epoch : 7 ; Curr itr : 2447/2447 ; Loss : 0.07506664842367172 \n"
     ]
    },
    {
     "name": "stderr",
     "output_type": "stream",
     "text": [
      "Epoch: 0it [00:00, ?it/s]46/2447 ; Loss : 0.02077832631766796: 0it [01:16, ?it/s] "
     ]
    },
    {
     "name": "stdout",
     "output_type": "stream",
     "text": [
      "Epoch : 8 ; Curr itr : 2447/2447 ; Loss : 0.02077832631766796 \n"
     ]
    },
    {
     "name": "stderr",
     "output_type": "stream",
     "text": [
      "Epoch: 0it [00:00, ?it/s]46/2447 ; Loss : 0.0631062388420105: 0it [01:16, ?it/s]  "
     ]
    },
    {
     "name": "stdout",
     "output_type": "stream",
     "text": [
      "Epoch : 9 ; Curr itr : 2447/2447 ; Loss : 0.0631062388420105 \n"
     ]
    },
    {
     "name": "stderr",
     "output_type": "stream",
     "text": [
      "Epoch: 0it [00:00, ?it/s]446/2447 ; Loss : 0.03921324387192726: 0it [01:18, ?it/s] "
     ]
    },
    {
     "name": "stdout",
     "output_type": "stream",
     "text": [
      "Epoch : 10 ; Curr itr : 2447/2447 ; Loss : 0.03921324387192726 \n"
     ]
    },
    {
     "name": "stderr",
     "output_type": "stream",
     "text": [
      "Epoch: 0it [00:00, ?it/s]446/2447 ; Loss : 0.0077460408210754395: 0it [01:16, ?it/s]"
     ]
    },
    {
     "name": "stdout",
     "output_type": "stream",
     "text": [
      "Epoch : 11 ; Curr itr : 2447/2447 ; Loss : 0.0077460408210754395 \n"
     ]
    },
    {
     "name": "stderr",
     "output_type": "stream",
     "text": [
      "Epoch: 0it [00:00, ?it/s]446/2447 ; Loss : 0.06409978121519089: 0it [01:17, ?it/s] "
     ]
    },
    {
     "name": "stdout",
     "output_type": "stream",
     "text": [
      "Epoch : 12 ; Curr itr : 2447/2447 ; Loss : 0.06409978121519089 \n"
     ]
    },
    {
     "name": "stderr",
     "output_type": "stream",
     "text": [
      "Epoch: 0it [00:00, ?it/s]446/2447 ; Loss : 0.02657974511384964: 0it [01:18, ?it/s] "
     ]
    },
    {
     "name": "stdout",
     "output_type": "stream",
     "text": [
      "Epoch : 13 ; Curr itr : 2447/2447 ; Loss : 0.02657974511384964 \n"
     ]
    },
    {
     "name": "stderr",
     "output_type": "stream",
     "text": [
      "Epoch: 0it [00:00, ?it/s]446/2447 ; Loss : 0.014065832830965519: 0it [01:17, ?it/s]"
     ]
    },
    {
     "name": "stdout",
     "output_type": "stream",
     "text": [
      "Epoch : 14 ; Curr itr : 2447/2447 ; Loss : 0.014065832830965519 \n"
     ]
    },
    {
     "name": "stderr",
     "output_type": "stream",
     "text": [
      "Epoch: 0it [00:00, ?it/s]446/2447 ; Loss : 0.025334002450108528: 0it [01:18, ?it/s]"
     ]
    },
    {
     "name": "stdout",
     "output_type": "stream",
     "text": [
      "Epoch : 15 ; Curr itr : 2447/2447 ; Loss : 0.025334002450108528 \n"
     ]
    },
    {
     "name": "stderr",
     "output_type": "stream",
     "text": [
      "Epoch: 0it [00:00, ?it/s]446/2447 ; Loss : 0.019389716908335686: 0it [01:19, ?it/s]"
     ]
    },
    {
     "name": "stdout",
     "output_type": "stream",
     "text": [
      "Epoch : 16 ; Curr itr : 2447/2447 ; Loss : 0.019389716908335686 \n"
     ]
    },
    {
     "name": "stderr",
     "output_type": "stream",
     "text": [
      "Epoch: 0it [00:00, ?it/s]446/2447 ; Loss : 0.029678072780370712: 0it [01:16, ?it/s]"
     ]
    },
    {
     "name": "stdout",
     "output_type": "stream",
     "text": [
      "Epoch : 17 ; Curr itr : 2447/2447 ; Loss : 0.029678072780370712 \n"
     ]
    },
    {
     "name": "stderr",
     "output_type": "stream",
     "text": [
      "Epoch: 0it [00:00, ?it/s]446/2447 ; Loss : 0.025325942784547806: 0it [01:16, ?it/s]"
     ]
    },
    {
     "name": "stdout",
     "output_type": "stream",
     "text": [
      "Epoch : 18 ; Curr itr : 2447/2447 ; Loss : 0.025325942784547806 \n"
     ]
    },
    {
     "name": "stderr",
     "output_type": "stream",
     "text": [
      "Epoch: 0it [00:00, ?it/s]446/2447 ; Loss : 0.014720333740115166: 0it [01:16, ?it/s]"
     ]
    },
    {
     "name": "stdout",
     "output_type": "stream",
     "text": [
      "Epoch : 19 ; Curr itr : 2447/2447 ; Loss : 0.014720333740115166 \n"
     ]
    },
    {
     "name": "stderr",
     "output_type": "stream",
     "text": [
      "Epoch: 0it [00:00, ?it/s]446/2447 ; Loss : 0.026278847828507423: 0it [01:17, ?it/s]"
     ]
    },
    {
     "name": "stdout",
     "output_type": "stream",
     "text": [
      "Epoch : 20 ; Curr itr : 2447/2447 ; Loss : 0.026278847828507423 \n"
     ]
    },
    {
     "name": "stderr",
     "output_type": "stream",
     "text": [
      "Epoch: 0it [00:00, ?it/s]446/2447 ; Loss : 0.04885561391711235: 0it [01:16, ?it/s] "
     ]
    },
    {
     "name": "stdout",
     "output_type": "stream",
     "text": [
      "Epoch : 21 ; Curr itr : 2447/2447 ; Loss : 0.04885561391711235 \n"
     ]
    },
    {
     "name": "stderr",
     "output_type": "stream",
     "text": [
      "Epoch: 0it [00:00, ?it/s]446/2447 ; Loss : 0.08461152762174606: 0it [01:16, ?it/s] "
     ]
    },
    {
     "name": "stdout",
     "output_type": "stream",
     "text": [
      "Epoch : 22 ; Curr itr : 2447/2447 ; Loss : 0.08461152762174606 \n"
     ]
    },
    {
     "name": "stderr",
     "output_type": "stream",
     "text": [
      "Epoch: 0it [00:00, ?it/s]446/2447 ; Loss : 0.030334480106830597: 0it [01:17, ?it/s]"
     ]
    },
    {
     "name": "stdout",
     "output_type": "stream",
     "text": [
      "Epoch : 23 ; Curr itr : 2447/2447 ; Loss : 0.030334480106830597 \n"
     ]
    },
    {
     "name": "stderr",
     "output_type": "stream",
     "text": [
      "Epoch: 0it [00:00, ?it/s]446/2447 ; Loss : 0.024036355316638947: 0it [01:16, ?it/s]"
     ]
    },
    {
     "name": "stdout",
     "output_type": "stream",
     "text": [
      "Epoch : 24 ; Curr itr : 2447/2447 ; Loss : 0.024036355316638947 \n"
     ]
    },
    {
     "name": "stderr",
     "output_type": "stream",
     "text": [
      "Epoch: 0it [00:00, ?it/s]446/2447 ; Loss : 0.0969695970416069: 0it [01:15, ?it/s]  "
     ]
    },
    {
     "name": "stdout",
     "output_type": "stream",
     "text": [
      "Epoch : 25 ; Curr itr : 2447/2447 ; Loss : 0.0969695970416069 \n"
     ]
    },
    {
     "name": "stderr",
     "output_type": "stream",
     "text": [
      "Epoch: 0it [00:00, ?it/s]446/2447 ; Loss : 0.016707032918930054: 0it [01:18, ?it/s]"
     ]
    },
    {
     "name": "stdout",
     "output_type": "stream",
     "text": [
      "Epoch : 26 ; Curr itr : 2447/2447 ; Loss : 0.016707032918930054 \n"
     ]
    },
    {
     "name": "stderr",
     "output_type": "stream",
     "text": [
      "Epoch: 0it [00:00, ?it/s]446/2447 ; Loss : 0.03761334344744682: 0it [01:16, ?it/s] "
     ]
    },
    {
     "name": "stdout",
     "output_type": "stream",
     "text": [
      "Epoch : 27 ; Curr itr : 2447/2447 ; Loss : 0.03761334344744682 \n"
     ]
    },
    {
     "name": "stderr",
     "output_type": "stream",
     "text": [
      "Epoch: 0it [00:00, ?it/s]446/2447 ; Loss : 0.03192101791501045: 0it [01:16, ?it/s] "
     ]
    },
    {
     "name": "stdout",
     "output_type": "stream",
     "text": [
      "Epoch : 28 ; Curr itr : 2447/2447 ; Loss : 0.03192101791501045 \n"
     ]
    },
    {
     "name": "stderr",
     "output_type": "stream",
     "text": [
      "Epoch : 29 ; Curr itr : 2446/2447 ; Loss : 0.056883759796619415: 0it [01:16, ?it/s]"
     ]
    },
    {
     "name": "stdout",
     "output_type": "stream",
     "text": [
      "Epoch : 29 ; Curr itr : 2447/2447 ; Loss : 0.056883759796619415 \n"
     ]
    }
   ],
   "source": [
    "total = len(train_loader)\n",
    "loss_list = []\n",
    "for epoch in range(30):\n",
    "    i =0# 3 full passes over the data\n",
    "    outer = tqdm(total=0, desc='Epoch', position=0)\n",
    "    for data in train_loader:\n",
    "        xx,yy = data# X is the batch of features, y is the batch of targets.\n",
    "        #print(xx.size(1))\n",
    "        xx = xx.to(device)\n",
    "        yy = yy.to(device)\n",
    "        net.zero_grad()  # sets gradients to 0 before loss calc. You will do this likely every step.\n",
    "        output = net(xx.view(xx.size(0), -1))  # pass in the reshaped batch (recall they are 28x28 atm)\n",
    "        #print('output nikla')\n",
    "        #print(output.size(1))\n",
    "        #print(yy.size(1))\n",
    "        yy = yy.squeeze(1)\n",
    "        loss = F.nll_loss(output, yy.long())  # calc and grab the loss value\n",
    "        loss.backward()  # apply this loss backwards thru the network's parameters\n",
    "        optimizer.step()  # attempt to optimize weights to account for loss/gradients\n",
    "        loss_list.append(float(loss))\n",
    "        outer.set_description_str(f'Epoch : {epoch} ; Curr itr : {i}/{total} ; Loss : {loss}')\n",
    "        i +=1\n",
    "    print(f'Epoch : {epoch} ; Curr itr : {i}/{total} ; Loss : {loss} ')"
   ]
  },
  {
   "cell_type": "code",
   "execution_count": 23,
   "metadata": {},
   "outputs": [],
   "source": [
    "torch.save(net,'MultiLabelMarginLoss3_PCA_quantile')"
   ]
  },
  {
   "cell_type": "code",
   "execution_count": 9,
   "metadata": {},
   "outputs": [],
   "source": [
    "net = torch.load('MultiLabelMarginLoss3_PCA_100')"
   ]
  },
  {
   "cell_type": "code",
   "execution_count": null,
   "metadata": {},
   "outputs": [],
   "source": []
  },
  {
   "cell_type": "code",
   "execution_count": 27,
   "metadata": {},
   "outputs": [
    {
     "name": "stderr",
     "output_type": "stream",
     "text": [
      "Itr :2409/2410:   0%|          | 0/2410 [03:53<?, ?it/s]"
     ]
    },
    {
     "name": "stdout",
     "output_type": "stream",
     "text": [
      "Accuracy:  (0.9831929094909604, 3)\n",
      "Length of Y_true :  0\n",
      "Length of Y_pred :  0\n"
     ]
    }
   ],
   "source": [
    "correct = 0\n",
    "total = 0\n",
    "itr = 0\n",
    "y_true = []\n",
    "y_pred = []\n",
    "with torch.no_grad():\n",
    "    ooo = tqdm(total=len(test_loader), desc='Itr', position=0)\n",
    "    for data in test_loader:\n",
    "        xx, y = data\n",
    "        xx = xx.to(device)\n",
    "        y = y.to(device)\n",
    "        output = net(xx.view(xx.size(0), -1))\n",
    "        y = y.squeeze(1)\n",
    "        y = y.long()\n",
    "        #print(output)\n",
    "        \n",
    "        for idx, i in enumerate(output):\n",
    "            #print(torch.argmax(i), y[idx])\n",
    "#             y_pred.append(torch.argmax(i))\n",
    "#             y_true.append(y[idx])\n",
    "            if torch.argmax(i) == y[idx]:\n",
    "                correct += 1\n",
    "            total += 1\n",
    "        ooo.set_description_str(f'Itr :{itr}/{len(test_loader)}')\n",
    "        itr+=1\n",
    "\n",
    "print(\"Accuracy: \", (correct/total, 3))\n",
    "print('Length of Y_true : ',len(y_true))\n",
    "print('Length of Y_pred : ',len(y_pred))"
   ]
  },
  {
   "cell_type": "code",
   "execution_count": 14,
   "metadata": {},
   "outputs": [],
   "source": [
    "lossList = pd.DataFrame(loss_list)"
   ]
  },
  {
   "cell_type": "code",
   "execution_count": 16,
   "metadata": {},
   "outputs": [],
   "source": [
    "lossList.to_csv('LOSS.csv')"
   ]
  },
  {
   "cell_type": "code",
   "execution_count": 16,
   "metadata": {},
   "outputs": [
    {
     "name": "stdout",
     "output_type": "stream",
     "text": [
      "0.9863776241574671\n"
     ]
    }
   ],
   "source": [
    "print(0.9863776241574671)"
   ]
  },
  {
   "cell_type": "code",
   "execution_count": 11,
   "metadata": {},
   "outputs": [],
   "source": [
    "import sklearn.metrics as skm\n",
    "import matplotlib.pyplot as plt"
   ]
  },
  {
   "cell_type": "code",
   "execution_count": null,
   "metadata": {},
   "outputs": [],
   "source": []
  },
  {
   "cell_type": "code",
   "execution_count": 21,
   "metadata": {},
   "outputs": [
    {
     "name": "stdout",
     "output_type": "stream",
     "text": [
      "<class 'int'>\n"
     ]
    }
   ],
   "source": [
    "print(type(y_true[0].item()))"
   ]
  },
  {
   "cell_type": "code",
   "execution_count": 13,
   "metadata": {},
   "outputs": [],
   "source": [
    "for i in range(len(y_pred)):\n",
    "    y_pred[i] = y_pred[i].item()\n",
    "    y_true[i] = y_true[i].item()"
   ]
  },
  {
   "cell_type": "code",
   "execution_count": 36,
   "metadata": {},
   "outputs": [
    {
     "name": "stdout",
     "output_type": "stream",
     "text": [
      "[[818096      0     12     24     47    169      0      1      8      8\n",
      "       9     60      7      0   1964]\n",
      " [  1399      0      0      0      0      0      0      0      0      0\n",
      "       0      0      0      0      0]\n",
      " [    17      0  75846      0      0      0      0      1      0      0\n",
      "       0      0      0      0      0]\n",
      " [     9      0      0  13039     12      0      0      0      0      0\n",
      "       0     19      0      0      0]\n",
      " [    36      0      0      8   3239      0      0      0      0      0\n",
      "       2     29      0      0      0]\n",
      " [   179      0      0      0      0 185302    151      0      0      0\n",
      "       0      0      0      0    294]\n",
      " [     0      0      0      0      0     37    534      0      0      0\n",
      "       0      0      0      0      0]\n",
      " [     0      0      0      0      0      0      0 226829      0      0\n",
      "       0      0      0      0      0]\n",
      " [     0      0      0      0      0      0      0      0  55280      0\n",
      "    7111      0      0      0      0]\n",
      " [     9      0      0      0      0      0      0      0      4  60378\n",
      "       2     82      0      0      0]\n",
      " [     0      0      0      0      0      0      0      0  21697      0\n",
      "   23362      0      0      0      0]\n",
      " [     0      0      0     53      0      0      0      0      0     17\n",
      "       0 151022      0      0      0]\n",
      " [    51      0      0      0      0      0      0      0      0      0\n",
      "       0      0     22      0     59]\n",
      " [     3      0      0      0      0      0      0      0      0      0\n",
      "       0      0      0     29     22]\n",
      " [     0      0      0      0      0      0      0      0      0      0\n",
      "       0      0      0      0 820821]]\n"
     ]
    },
    {
     "name": "stderr",
     "output_type": "stream",
     "text": [
      "/opt/anaconda3/lib/python3.7/site-packages/sklearn/metrics/_classification.py:1268: UndefinedMetricWarning: Precision and F-score are ill-defined and being set to 0.0 in labels with no predicted samples. Use `zero_division` parameter to control this behavior.\n",
      "  _warn_prf(average, modifier, msg_start, len(result))\n"
     ]
    },
    {
     "name": "stdout",
     "output_type": "stream",
     "text": [
      "              precision    recall  f1-score   support\n",
      "\n",
      "           0       1.00      1.00      1.00    820405\n",
      "           1       0.00      0.00      0.00      1399\n",
      "           2       1.00      1.00      1.00     75864\n",
      "           3       0.99      1.00      1.00     13079\n",
      "           4       0.98      0.98      0.98      3314\n",
      "           5       1.00      1.00      1.00    185926\n",
      "           6       0.78      0.94      0.85       571\n",
      "           7       1.00      1.00      1.00    226829\n",
      "           8       0.72      0.89      0.79     62391\n",
      "           9       1.00      1.00      1.00     60475\n",
      "          10       0.77      0.52      0.62     45059\n",
      "          11       1.00      1.00      1.00    151092\n",
      "          12       0.76      0.17      0.27       132\n",
      "          13       1.00      0.54      0.70        54\n",
      "          14       1.00      1.00      1.00    820821\n",
      "\n",
      "    accuracy                           0.99   2467411\n",
      "   macro avg       0.87      0.80      0.81   2467411\n",
      "weighted avg       0.99      0.99      0.99   2467411\n",
      "\n"
     ]
    }
   ],
   "source": [
    "cm = skm.confusion_matrix(y_true, y_pred)\n",
    "print(cm)\n",
    "print(skm.classification_report(y_true,y_pred))"
   ]
  },
  {
   "cell_type": "code",
   "execution_count": 25,
   "metadata": {},
   "outputs": [],
   "source": [
    "losss = pd.read_csv('LOSS.csv')"
   ]
  },
  {
   "cell_type": "code",
   "execution_count": 33,
   "metadata": {},
   "outputs": [],
   "source": [
    "graphval = losss.iloc[:,1]"
   ]
  },
  {
   "cell_type": "code",
   "execution_count": 36,
   "metadata": {},
   "outputs": [],
   "source": [
    "import matplotlib.pyplot as plt"
   ]
  },
  {
   "cell_type": "code",
   "execution_count": 47,
   "metadata": {},
   "outputs": [
    {
     "data": {
      "image/png": "[encoded data removed]",
      "text/plain": [
       "<Figure size 432x288 with 1 Axes>"
      ]
     },
     "metadata": {
      "needs_background": "light"
     },
     "output_type": "display_data"
    }
   ],
   "source": [
    "plt.plot(graphval[::100])\n",
    "plt.xlabel('Iterations')\n",
    "plt.ylabel('Multi Label Margin Loss')\n",
    "plt.savefig('lossgraph.png')"
   ]
  },
  {
   "cell_type": "code",
   "execution_count": 85,
   "metadata": {},
   "outputs": [],
   "source": [
    "def plot_confusion_matrix(cm,\n",
    "                          target_names,\n",
    "                          title='Confusion matrix',\n",
    "                          cmap=None,\n",
    "                          normalize=True):\n",
    "    \"\"\"\n",
    "    given a sklearn confusion matrix (cm), make a nice plot\n",
    "\n",
    "    Arguments\n",
    "    ---------\n",
    "    cm:           confusion matrix from sklearn.metrics.confusion_matrix\n",
    "\n",
    "    target_names: given classification classes such as [0, 1, 2]\n",
    "                  the class names, for example: ['high', 'medium', 'low']\n",
    "\n",
    "    title:        the text to display at the top of the matrix\n",
    "\n",
    "    cmap:         the gradient of the values displayed from matplotlib.pyplot.cm\n",
    "                  see http://matplotlib.org/examples/color/colormaps_reference.html\n",
    "                  plt.get_cmap('jet') or plt.cm.Blues\n",
    "\n",
    "    normalize:    If False, plot the raw numbers\n",
    "                  If True, plot the proportions\n",
    "\n",
    "    Usage\n",
    "    -----\n",
    "    plot_confusion_matrix(cm           = cm,                  # confusion matrix created by\n",
    "                                                              # sklearn.metrics.confusion_matrix\n",
    "                          normalize    = True,                # show proportions\n",
    "                          target_names = y_labels_vals,       # list of names of the classes\n",
    "                          title        = best_estimator_name) # title of graph\n",
    "\n",
    "    Citiation\n",
    "    ---------\n",
    "    http://scikit-learn.org/stable/auto_examples/model_selection/plot_confusion_matrix.html\n",
    "\n",
    "    \"\"\"\n",
    "\n",
    "    import itertools\n",
    "\n",
    "    accuracy = np.trace(cm) / float(np.sum(cm))\n",
    "    misclass = 1 - accuracy\n",
    "\n",
    "    if cmap is None:\n",
    "        cmap = plt.get_cmap('Blues')\n",
    "\n",
    "    plt.figure(figsize=(15, 12))\n",
    "    plt.imshow(cm, interpolation='nearest', cmap=cmap)\n",
    "    plt.title(title)\n",
    "    plt.colorbar()\n",
    "\n",
    "    if target_names is not None:\n",
    "        tick_marks = np.arange(len(target_names))\n",
    "        plt.xticks(tick_marks, target_names, rotation=45)\n",
    "        plt.yticks(tick_marks, target_names)\n",
    "\n",
    "    if normalize:\n",
    "        cm = cm.astype('float') / cm.sum(axis=1)[:, np.newaxis]\n",
    "\n",
    "\n",
    "    thresh = cm.max() / 1.5 if normalize else cm.max() / 2\n",
    "    for i, j in itertools.product(range(cm.shape[0]), range(cm.shape[1])):\n",
    "        if normalize:\n",
    "            plt.text(j, i, \"{:0.4f}\".format(cm[i, j]),\n",
    "                     horizontalalignment=\"center\",\n",
    "                     color=\"white\" if cm[i, j] > thresh else \"black\")\n",
    "        else:\n",
    "            plt.text(j, i, \"{:,}\".format(cm[i, j]),\n",
    "                     horizontalalignment=\"center\",verticalalignment = \"center_baseline\",\n",
    "                     color=\"white\" if cm[i, j] > thresh else \"black\")\n",
    "\n",
    "\n",
    "    plt.tight_layout()\n",
    "    plt.ylabel('True label')\n",
    "    plt.xlabel('Predicted label\\naccuracy={:0.4f}; misclass={:0.4f}'.format(accuracy, misclass))\n",
    "    plt.show()"
   ]
  },
  {
   "cell_type": "code",
   "execution_count": 60,
   "metadata": {},
   "outputs": [
    {
     "ename": "SyntaxError",
     "evalue": "invalid syntax (<ipython-input-60-4787475a3bb3>, line 5)",
     "output_type": "error",
     "traceback": [
      "\u001b[0;36m  File \u001b[0;32m\"<ipython-input-60-4787475a3bb3>\"\u001b[0;36m, line \u001b[0;32m5\u001b[0m\n\u001b[0;31m    sn.heatmap(df_cm, annot=True)?\u001b[0m\n\u001b[0m                                 ^\u001b[0m\n\u001b[0;31mSyntaxError\u001b[0m\u001b[0;31m:\u001b[0m invalid syntax\n"
     ]
    }
   ],
   "source": [
    "import seaborn as sn\n",
    "df_cm = pd.DataFrame(cm, index = [i+1 for i in range(15)],\n",
    "                  columns = [i+1 for i in range(15)])\n",
    "plt.figure(figsize = (15,12))\n",
    "sn.heatmap(df_cm, annot=True)?"
   ]
  },
  {
   "cell_type": "code",
   "execution_count": 86,
   "metadata": {},
   "outputs": [
    {
     "data": {
      "image/png": "[encoded data removed]",
      "text/plain": [
       "<Figure size 1080x864 with 2 Axes>"
      ]
     },
     "metadata": {
      "needs_background": "light"
     },
     "output_type": "display_data"
    }
   ],
   "source": [
    "plot_confusion_matrix(cm,[i for i in range(15)],normalize=False)"
   ]
  },
  {
   "cell_type": "code",
   "execution_count": 82,
   "metadata": {},
   "outputs": [
    {
     "ename": "AttributeError",
     "evalue": "'AxesImage' object has no property 'annot'",
     "output_type": "error",
     "traceback": [
      "\u001b[0;31m---------------------------------------------------------------------------\u001b[0m",
      "\u001b[0;31mAttributeError\u001b[0m                            Traceback (most recent call last)",
      "\u001b[0;32m<ipython-input-82-99db738c9701>\u001b[0m in \u001b[0;36m<module>\u001b[0;34m\u001b[0m\n\u001b[0;32m----> 1\u001b[0;31m \u001b[0mplt\u001b[0m\u001b[0;34m.\u001b[0m\u001b[0mimshow\u001b[0m\u001b[0;34m(\u001b[0m\u001b[0mcm\u001b[0m\u001b[0;34m,\u001b[0m\u001b[0mannot\u001b[0m\u001b[0;34m=\u001b[0m\u001b[0;32mTrue\u001b[0m\u001b[0;34m)\u001b[0m\u001b[0;34m\u001b[0m\u001b[0;34m\u001b[0m\u001b[0m\n\u001b[0m",
      "\u001b[0;32m/opt/anaconda3/lib/python3.7/site-packages/matplotlib/pyplot.py\u001b[0m in \u001b[0;36mimshow\u001b[0;34m(X, cmap, norm, aspect, interpolation, alpha, vmin, vmax, origin, extent, shape, filternorm, filterrad, imlim, resample, url, data, **kwargs)\u001b[0m\n\u001b[1;32m   2681\u001b[0m         \u001b[0mfilternorm\u001b[0m\u001b[0;34m=\u001b[0m\u001b[0mfilternorm\u001b[0m\u001b[0;34m,\u001b[0m \u001b[0mfilterrad\u001b[0m\u001b[0;34m=\u001b[0m\u001b[0mfilterrad\u001b[0m\u001b[0;34m,\u001b[0m \u001b[0mimlim\u001b[0m\u001b[0;34m=\u001b[0m\u001b[0mimlim\u001b[0m\u001b[0;34m,\u001b[0m\u001b[0;34m\u001b[0m\u001b[0;34m\u001b[0m\u001b[0m\n\u001b[1;32m   2682\u001b[0m         resample=resample, url=url, **({\"data\": data} if data is not\n\u001b[0;32m-> 2683\u001b[0;31m         None else {}), **kwargs)\n\u001b[0m\u001b[1;32m   2684\u001b[0m     \u001b[0msci\u001b[0m\u001b[0;34m(\u001b[0m\u001b[0m__ret\u001b[0m\u001b[0;34m)\u001b[0m\u001b[0;34m\u001b[0m\u001b[0;34m\u001b[0m\u001b[0m\n\u001b[1;32m   2685\u001b[0m     \u001b[0;32mreturn\u001b[0m \u001b[0m__ret\u001b[0m\u001b[0;34m\u001b[0m\u001b[0;34m\u001b[0m\u001b[0m\n",
      "\u001b[0;32m/opt/anaconda3/lib/python3.7/site-packages/matplotlib/__init__.py\u001b[0m in \u001b[0;36minner\u001b[0;34m(ax, data, *args, **kwargs)\u001b[0m\n\u001b[1;32m   1599\u001b[0m     \u001b[0;32mdef\u001b[0m \u001b[0minner\u001b[0m\u001b[0;34m(\u001b[0m\u001b[0max\u001b[0m\u001b[0;34m,\u001b[0m \u001b[0;34m*\u001b[0m\u001b[0margs\u001b[0m\u001b[0;34m,\u001b[0m \u001b[0mdata\u001b[0m\u001b[0;34m=\u001b[0m\u001b[0;32mNone\u001b[0m\u001b[0;34m,\u001b[0m \u001b[0;34m**\u001b[0m\u001b[0mkwargs\u001b[0m\u001b[0;34m)\u001b[0m\u001b[0;34m:\u001b[0m\u001b[0;34m\u001b[0m\u001b[0;34m\u001b[0m\u001b[0m\n\u001b[1;32m   1600\u001b[0m         \u001b[0;32mif\u001b[0m \u001b[0mdata\u001b[0m \u001b[0;32mis\u001b[0m \u001b[0;32mNone\u001b[0m\u001b[0;34m:\u001b[0m\u001b[0;34m\u001b[0m\u001b[0;34m\u001b[0m\u001b[0m\n\u001b[0;32m-> 1601\u001b[0;31m             \u001b[0;32mreturn\u001b[0m \u001b[0mfunc\u001b[0m\u001b[0;34m(\u001b[0m\u001b[0max\u001b[0m\u001b[0;34m,\u001b[0m \u001b[0;34m*\u001b[0m\u001b[0mmap\u001b[0m\u001b[0;34m(\u001b[0m\u001b[0msanitize_sequence\u001b[0m\u001b[0;34m,\u001b[0m \u001b[0margs\u001b[0m\u001b[0;34m)\u001b[0m\u001b[0;34m,\u001b[0m \u001b[0;34m**\u001b[0m\u001b[0mkwargs\u001b[0m\u001b[0;34m)\u001b[0m\u001b[0;34m\u001b[0m\u001b[0;34m\u001b[0m\u001b[0m\n\u001b[0m\u001b[1;32m   1602\u001b[0m \u001b[0;34m\u001b[0m\u001b[0m\n\u001b[1;32m   1603\u001b[0m         \u001b[0mbound\u001b[0m \u001b[0;34m=\u001b[0m \u001b[0mnew_sig\u001b[0m\u001b[0;34m.\u001b[0m\u001b[0mbind\u001b[0m\u001b[0;34m(\u001b[0m\u001b[0max\u001b[0m\u001b[0;34m,\u001b[0m \u001b[0;34m*\u001b[0m\u001b[0margs\u001b[0m\u001b[0;34m,\u001b[0m \u001b[0;34m**\u001b[0m\u001b[0mkwargs\u001b[0m\u001b[0;34m)\u001b[0m\u001b[0;34m\u001b[0m\u001b[0;34m\u001b[0m\u001b[0m\n",
      "\u001b[0;32m/opt/anaconda3/lib/python3.7/site-packages/matplotlib/cbook/deprecation.py\u001b[0m in \u001b[0;36mwrapper\u001b[0;34m(*args, **kwargs)\u001b[0m\n\u001b[1;32m    367\u001b[0m                 \u001b[0;34mf\"%(removal)s.  If any parameter follows {name!r}, they \"\u001b[0m\u001b[0;34m\u001b[0m\u001b[0;34m\u001b[0m\u001b[0m\n\u001b[1;32m    368\u001b[0m                 f\"should be pass as keyword, not positionally.\")\n\u001b[0;32m--> 369\u001b[0;31m         \u001b[0;32mreturn\u001b[0m \u001b[0mfunc\u001b[0m\u001b[0;34m(\u001b[0m\u001b[0;34m*\u001b[0m\u001b[0margs\u001b[0m\u001b[0;34m,\u001b[0m \u001b[0;34m**\u001b[0m\u001b[0mkwargs\u001b[0m\u001b[0;34m)\u001b[0m\u001b[0;34m\u001b[0m\u001b[0;34m\u001b[0m\u001b[0m\n\u001b[0m\u001b[1;32m    370\u001b[0m \u001b[0;34m\u001b[0m\u001b[0m\n\u001b[1;32m    371\u001b[0m     \u001b[0;32mreturn\u001b[0m \u001b[0mwrapper\u001b[0m\u001b[0;34m\u001b[0m\u001b[0;34m\u001b[0m\u001b[0m\n",
      "\u001b[0;32m/opt/anaconda3/lib/python3.7/site-packages/matplotlib/cbook/deprecation.py\u001b[0m in \u001b[0;36mwrapper\u001b[0;34m(*args, **kwargs)\u001b[0m\n\u001b[1;32m    367\u001b[0m                 \u001b[0;34mf\"%(removal)s.  If any parameter follows {name!r}, they \"\u001b[0m\u001b[0;34m\u001b[0m\u001b[0;34m\u001b[0m\u001b[0m\n\u001b[1;32m    368\u001b[0m                 f\"should be pass as keyword, not positionally.\")\n\u001b[0;32m--> 369\u001b[0;31m         \u001b[0;32mreturn\u001b[0m \u001b[0mfunc\u001b[0m\u001b[0;34m(\u001b[0m\u001b[0;34m*\u001b[0m\u001b[0margs\u001b[0m\u001b[0;34m,\u001b[0m \u001b[0;34m**\u001b[0m\u001b[0mkwargs\u001b[0m\u001b[0;34m)\u001b[0m\u001b[0;34m\u001b[0m\u001b[0;34m\u001b[0m\u001b[0m\n\u001b[0m\u001b[1;32m    370\u001b[0m \u001b[0;34m\u001b[0m\u001b[0m\n\u001b[1;32m    371\u001b[0m     \u001b[0;32mreturn\u001b[0m \u001b[0mwrapper\u001b[0m\u001b[0;34m\u001b[0m\u001b[0;34m\u001b[0m\u001b[0m\n",
      "\u001b[0;32m/opt/anaconda3/lib/python3.7/site-packages/matplotlib/axes/_axes.py\u001b[0m in \u001b[0;36mimshow\u001b[0;34m(self, X, cmap, norm, aspect, interpolation, alpha, vmin, vmax, origin, extent, shape, filternorm, filterrad, imlim, resample, url, **kwargs)\u001b[0m\n\u001b[1;32m   5667\u001b[0m         im = mimage.AxesImage(self, cmap, norm, interpolation, origin, extent,\n\u001b[1;32m   5668\u001b[0m                               \u001b[0mfilternorm\u001b[0m\u001b[0;34m=\u001b[0m\u001b[0mfilternorm\u001b[0m\u001b[0;34m,\u001b[0m \u001b[0mfilterrad\u001b[0m\u001b[0;34m=\u001b[0m\u001b[0mfilterrad\u001b[0m\u001b[0;34m,\u001b[0m\u001b[0;34m\u001b[0m\u001b[0;34m\u001b[0m\u001b[0m\n\u001b[0;32m-> 5669\u001b[0;31m                               resample=resample, **kwargs)\n\u001b[0m\u001b[1;32m   5670\u001b[0m \u001b[0;34m\u001b[0m\u001b[0m\n\u001b[1;32m   5671\u001b[0m         \u001b[0mim\u001b[0m\u001b[0;34m.\u001b[0m\u001b[0mset_data\u001b[0m\u001b[0;34m(\u001b[0m\u001b[0mX\u001b[0m\u001b[0;34m)\u001b[0m\u001b[0;34m\u001b[0m\u001b[0;34m\u001b[0m\u001b[0m\n",
      "\u001b[0;32m/opt/anaconda3/lib/python3.7/site-packages/matplotlib/image.py\u001b[0m in \u001b[0;36m__init__\u001b[0;34m(self, ax, cmap, norm, interpolation, origin, extent, filternorm, filterrad, resample, **kwargs)\u001b[0m\n\u001b[1;32m    862\u001b[0m             \u001b[0mfilterrad\u001b[0m\u001b[0;34m=\u001b[0m\u001b[0mfilterrad\u001b[0m\u001b[0;34m,\u001b[0m\u001b[0;34m\u001b[0m\u001b[0;34m\u001b[0m\u001b[0m\n\u001b[1;32m    863\u001b[0m             \u001b[0mresample\u001b[0m\u001b[0;34m=\u001b[0m\u001b[0mresample\u001b[0m\u001b[0;34m,\u001b[0m\u001b[0;34m\u001b[0m\u001b[0;34m\u001b[0m\u001b[0m\n\u001b[0;32m--> 864\u001b[0;31m             \u001b[0;34m**\u001b[0m\u001b[0mkwargs\u001b[0m\u001b[0;34m\u001b[0m\u001b[0;34m\u001b[0m\u001b[0m\n\u001b[0m\u001b[1;32m    865\u001b[0m         )\n\u001b[1;32m    866\u001b[0m \u001b[0;34m\u001b[0m\u001b[0m\n",
      "\u001b[0;32m/opt/anaconda3/lib/python3.7/site-packages/matplotlib/image.py\u001b[0m in \u001b[0;36m__init__\u001b[0;34m(self, ax, cmap, norm, interpolation, origin, filternorm, filterrad, resample, **kwargs)\u001b[0m\n\u001b[1;32m    218\u001b[0m         \u001b[0mself\u001b[0m\u001b[0;34m.\u001b[0m\u001b[0m_imcache\u001b[0m \u001b[0;34m=\u001b[0m \u001b[0;32mNone\u001b[0m\u001b[0;34m\u001b[0m\u001b[0;34m\u001b[0m\u001b[0m\n\u001b[1;32m    219\u001b[0m \u001b[0;34m\u001b[0m\u001b[0m\n\u001b[0;32m--> 220\u001b[0;31m         \u001b[0mself\u001b[0m\u001b[0;34m.\u001b[0m\u001b[0mupdate\u001b[0m\u001b[0;34m(\u001b[0m\u001b[0mkwargs\u001b[0m\u001b[0;34m)\u001b[0m\u001b[0;34m\u001b[0m\u001b[0;34m\u001b[0m\u001b[0m\n\u001b[0m\u001b[1;32m    221\u001b[0m \u001b[0;34m\u001b[0m\u001b[0m\n\u001b[1;32m    222\u001b[0m     \u001b[0;32mdef\u001b[0m \u001b[0m__getstate__\u001b[0m\u001b[0;34m(\u001b[0m\u001b[0mself\u001b[0m\u001b[0;34m)\u001b[0m\u001b[0;34m:\u001b[0m\u001b[0;34m\u001b[0m\u001b[0;34m\u001b[0m\u001b[0m\n",
      "\u001b[0;32m/opt/anaconda3/lib/python3.7/site-packages/matplotlib/artist.py\u001b[0m in \u001b[0;36mupdate\u001b[0;34m(self, props)\u001b[0m\n\u001b[1;32m    972\u001b[0m \u001b[0;34m\u001b[0m\u001b[0m\n\u001b[1;32m    973\u001b[0m         \u001b[0;32mwith\u001b[0m \u001b[0mcbook\u001b[0m\u001b[0;34m.\u001b[0m\u001b[0m_setattr_cm\u001b[0m\u001b[0;34m(\u001b[0m\u001b[0mself\u001b[0m\u001b[0;34m,\u001b[0m \u001b[0meventson\u001b[0m\u001b[0;34m=\u001b[0m\u001b[0;32mFalse\u001b[0m\u001b[0;34m)\u001b[0m\u001b[0;34m:\u001b[0m\u001b[0;34m\u001b[0m\u001b[0;34m\u001b[0m\u001b[0m\n\u001b[0;32m--> 974\u001b[0;31m             \u001b[0mret\u001b[0m \u001b[0;34m=\u001b[0m \u001b[0;34m[\u001b[0m\u001b[0m_update_property\u001b[0m\u001b[0;34m(\u001b[0m\u001b[0mself\u001b[0m\u001b[0;34m,\u001b[0m \u001b[0mk\u001b[0m\u001b[0;34m,\u001b[0m \u001b[0mv\u001b[0m\u001b[0;34m)\u001b[0m \u001b[0;32mfor\u001b[0m \u001b[0mk\u001b[0m\u001b[0;34m,\u001b[0m \u001b[0mv\u001b[0m \u001b[0;32min\u001b[0m \u001b[0mprops\u001b[0m\u001b[0;34m.\u001b[0m\u001b[0mitems\u001b[0m\u001b[0;34m(\u001b[0m\u001b[0;34m)\u001b[0m\u001b[0;34m]\u001b[0m\u001b[0;34m\u001b[0m\u001b[0;34m\u001b[0m\u001b[0m\n\u001b[0m\u001b[1;32m    975\u001b[0m \u001b[0;34m\u001b[0m\u001b[0m\n\u001b[1;32m    976\u001b[0m         \u001b[0;32mif\u001b[0m \u001b[0mlen\u001b[0m\u001b[0;34m(\u001b[0m\u001b[0mret\u001b[0m\u001b[0;34m)\u001b[0m\u001b[0;34m:\u001b[0m\u001b[0;34m\u001b[0m\u001b[0;34m\u001b[0m\u001b[0m\n",
      "\u001b[0;32m/opt/anaconda3/lib/python3.7/site-packages/matplotlib/artist.py\u001b[0m in \u001b[0;36m<listcomp>\u001b[0;34m(.0)\u001b[0m\n\u001b[1;32m    972\u001b[0m \u001b[0;34m\u001b[0m\u001b[0m\n\u001b[1;32m    973\u001b[0m         \u001b[0;32mwith\u001b[0m \u001b[0mcbook\u001b[0m\u001b[0;34m.\u001b[0m\u001b[0m_setattr_cm\u001b[0m\u001b[0;34m(\u001b[0m\u001b[0mself\u001b[0m\u001b[0;34m,\u001b[0m \u001b[0meventson\u001b[0m\u001b[0;34m=\u001b[0m\u001b[0;32mFalse\u001b[0m\u001b[0;34m)\u001b[0m\u001b[0;34m:\u001b[0m\u001b[0;34m\u001b[0m\u001b[0;34m\u001b[0m\u001b[0m\n\u001b[0;32m--> 974\u001b[0;31m             \u001b[0mret\u001b[0m \u001b[0;34m=\u001b[0m \u001b[0;34m[\u001b[0m\u001b[0m_update_property\u001b[0m\u001b[0;34m(\u001b[0m\u001b[0mself\u001b[0m\u001b[0;34m,\u001b[0m \u001b[0mk\u001b[0m\u001b[0;34m,\u001b[0m \u001b[0mv\u001b[0m\u001b[0;34m)\u001b[0m \u001b[0;32mfor\u001b[0m \u001b[0mk\u001b[0m\u001b[0;34m,\u001b[0m \u001b[0mv\u001b[0m \u001b[0;32min\u001b[0m \u001b[0mprops\u001b[0m\u001b[0;34m.\u001b[0m\u001b[0mitems\u001b[0m\u001b[0;34m(\u001b[0m\u001b[0;34m)\u001b[0m\u001b[0;34m]\u001b[0m\u001b[0;34m\u001b[0m\u001b[0;34m\u001b[0m\u001b[0m\n\u001b[0m\u001b[1;32m    975\u001b[0m \u001b[0;34m\u001b[0m\u001b[0m\n\u001b[1;32m    976\u001b[0m         \u001b[0;32mif\u001b[0m \u001b[0mlen\u001b[0m\u001b[0;34m(\u001b[0m\u001b[0mret\u001b[0m\u001b[0;34m)\u001b[0m\u001b[0;34m:\u001b[0m\u001b[0;34m\u001b[0m\u001b[0;34m\u001b[0m\u001b[0m\n",
      "\u001b[0;32m/opt/anaconda3/lib/python3.7/site-packages/matplotlib/artist.py\u001b[0m in \u001b[0;36m_update_property\u001b[0;34m(self, k, v)\u001b[0m\n\u001b[1;32m    968\u001b[0m                 \u001b[0;32mif\u001b[0m \u001b[0;32mnot\u001b[0m \u001b[0mcallable\u001b[0m\u001b[0;34m(\u001b[0m\u001b[0mfunc\u001b[0m\u001b[0;34m)\u001b[0m\u001b[0;34m:\u001b[0m\u001b[0;34m\u001b[0m\u001b[0;34m\u001b[0m\u001b[0m\n\u001b[1;32m    969\u001b[0m                     raise AttributeError('{!r} object has no property {!r}'\n\u001b[0;32m--> 970\u001b[0;31m                                          .format(type(self).__name__, k))\n\u001b[0m\u001b[1;32m    971\u001b[0m                 \u001b[0;32mreturn\u001b[0m \u001b[0mfunc\u001b[0m\u001b[0;34m(\u001b[0m\u001b[0mv\u001b[0m\u001b[0;34m)\u001b[0m\u001b[0;34m\u001b[0m\u001b[0;34m\u001b[0m\u001b[0m\n\u001b[1;32m    972\u001b[0m \u001b[0;34m\u001b[0m\u001b[0m\n",
      "\u001b[0;31mAttributeError\u001b[0m: 'AxesImage' object has no property 'annot'"
     ]
    },
    {
     "data": {
      "image/png": "[encoded data removed]",
      "text/plain": [
       "<Figure size 432x288 with 1 Axes>"
      ]
     },
     "metadata": {
      "needs_background": "light"
     },
     "output_type": "display_data"
    }
   ],
   "source": []
  },
  {
   "cell_type": "code",
   "execution_count": null,
   "metadata": {},
   "outputs": [],
   "source": []
  }
 ],
 "metadata": {
  "file_extension": ".py",
  "kernelspec": {
   "display_name": "Python 3",
   "language": "python",
   "name": "python3"
  },
  "language_info": {
   "codemirror_mode": {
    "name": "ipython",
    "version": 3
   },
   "file_extension": ".py",
   "mimetype": "text/x-python",
   "name": "python",
   "nbconvert_exporter": "python",
   "pygments_lexer": "ipython3",
   "version": "3.6.12"
  },
  "mimetype": "text/x-python",
  "name": "python",
  "npconvert_exporter": "python",
  "pygments_lexer": "ipython3",
  "version": 3
 },
 "nbformat": 4,
 "nbformat_minor": 4
}
